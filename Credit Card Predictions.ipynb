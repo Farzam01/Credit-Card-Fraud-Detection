{
 "cells": [
  {
   "cell_type": "code",
   "execution_count": 108,
   "id": "217cca44",
   "metadata": {},
   "outputs": [],
   "source": [
    "import pandas as pd\n",
    "import tensorflow as tf\n",
    "from tensorflow import keras\n",
    "from tensorflow.keras import layers\n",
    "import numpy as np\n",
    "import matplotlib.pyplot as plt\n",
    "import seaborn as sns\n",
    "pd.set_option(\"display.max_columns\", 20)\n",
    "from sklearn.model_selection import train_test_split\n",
    "from sklearn.preprocessing import StandardScaler   \n",
    "import xgboost as xgb\n",
    "from sklearn.metrics import accuracy_score\n",
    "from sklearn.metrics import classification_report\n",
    "from sklearn.metrics import confusion_matrix\n",
    "from sklearn.model_selection import cross_val_score\n",
    "from sklearn import metrics"
   ]
  },
  {
   "cell_type": "markdown",
   "id": "b8701004",
   "metadata": {},
   "source": [
    "# Importing Data"
   ]
  },
  {
   "cell_type": "code",
   "execution_count": 2,
   "id": "7bb192ba",
   "metadata": {},
   "outputs": [],
   "source": [
    "df=pd.read_csv(\"CreditCardDataFinal- Jan23.csv\")"
   ]
  },
  {
   "cell_type": "code",
   "execution_count": 3,
   "id": "c011dde8",
   "metadata": {},
   "outputs": [
    {
     "data": {
      "text/html": [
       "<div>\n",
       "<style scoped>\n",
       "    .dataframe tbody tr th:only-of-type {\n",
       "        vertical-align: middle;\n",
       "    }\n",
       "\n",
       "    .dataframe tbody tr th {\n",
       "        vertical-align: top;\n",
       "    }\n",
       "\n",
       "    .dataframe thead th {\n",
       "        text-align: right;\n",
       "    }\n",
       "</style>\n",
       "<table border=\"1\" class=\"dataframe\">\n",
       "  <thead>\n",
       "    <tr style=\"text-align: right;\">\n",
       "      <th></th>\n",
       "      <th>Transaction ID</th>\n",
       "      <th>Date</th>\n",
       "      <th>Day of Week</th>\n",
       "      <th>Time</th>\n",
       "      <th>Type of Card</th>\n",
       "      <th>Entry Mode</th>\n",
       "      <th>Amount</th>\n",
       "      <th>Type of Transaction</th>\n",
       "      <th>Merchant Group</th>\n",
       "      <th>Country of Transaction</th>\n",
       "      <th>Shipping Address</th>\n",
       "      <th>Country of Residence</th>\n",
       "      <th>Gender</th>\n",
       "      <th>Age</th>\n",
       "      <th>Bank</th>\n",
       "      <th>Fraud</th>\n",
       "    </tr>\n",
       "  </thead>\n",
       "  <tbody>\n",
       "    <tr>\n",
       "      <th>0</th>\n",
       "      <td>#3577 209</td>\n",
       "      <td>14-Oct-20</td>\n",
       "      <td>Wednesday</td>\n",
       "      <td>19</td>\n",
       "      <td>Visa</td>\n",
       "      <td>Tap</td>\n",
       "      <td>£5</td>\n",
       "      <td>POS</td>\n",
       "      <td>Entertainment</td>\n",
       "      <td>United Kingdom</td>\n",
       "      <td>United Kingdom</td>\n",
       "      <td>United Kingdom</td>\n",
       "      <td>M</td>\n",
       "      <td>25.2</td>\n",
       "      <td>RBS</td>\n",
       "      <td>0</td>\n",
       "    </tr>\n",
       "    <tr>\n",
       "      <th>1</th>\n",
       "      <td>#3039 221</td>\n",
       "      <td>14-Oct-20</td>\n",
       "      <td>Wednesday</td>\n",
       "      <td>17</td>\n",
       "      <td>MasterCard</td>\n",
       "      <td>PIN</td>\n",
       "      <td>£288</td>\n",
       "      <td>POS</td>\n",
       "      <td>Services</td>\n",
       "      <td>USA</td>\n",
       "      <td>USA</td>\n",
       "      <td>USA</td>\n",
       "      <td>F</td>\n",
       "      <td>49.6</td>\n",
       "      <td>Lloyds</td>\n",
       "      <td>0</td>\n",
       "    </tr>\n",
       "    <tr>\n",
       "      <th>2</th>\n",
       "      <td>#2694 780</td>\n",
       "      <td>14-Oct-20</td>\n",
       "      <td>Wednesday</td>\n",
       "      <td>14</td>\n",
       "      <td>Visa</td>\n",
       "      <td>Tap</td>\n",
       "      <td>£5</td>\n",
       "      <td>POS</td>\n",
       "      <td>Restaurant</td>\n",
       "      <td>India</td>\n",
       "      <td>India</td>\n",
       "      <td>India</td>\n",
       "      <td>F</td>\n",
       "      <td>42.2</td>\n",
       "      <td>Barclays</td>\n",
       "      <td>0</td>\n",
       "    </tr>\n",
       "  </tbody>\n",
       "</table>\n",
       "</div>"
      ],
      "text/plain": [
       "  Transaction ID       Date Day of Week  Time Type of Card Entry Mode Amount  \\\n",
       "0      #3577 209  14-Oct-20   Wednesday    19         Visa        Tap     £5   \n",
       "1      #3039 221  14-Oct-20   Wednesday    17   MasterCard        PIN   £288   \n",
       "2      #2694 780  14-Oct-20   Wednesday    14         Visa        Tap     £5   \n",
       "\n",
       "  Type of Transaction Merchant Group Country of Transaction Shipping Address  \\\n",
       "0                 POS  Entertainment         United Kingdom   United Kingdom   \n",
       "1                 POS       Services                    USA              USA   \n",
       "2                 POS     Restaurant                  India            India   \n",
       "\n",
       "  Country of Residence Gender   Age      Bank  Fraud  \n",
       "0       United Kingdom      M  25.2       RBS      0  \n",
       "1                  USA      F  49.6    Lloyds      0  \n",
       "2                India      F  42.2  Barclays      0  "
      ]
     },
     "execution_count": 3,
     "metadata": {},
     "output_type": "execute_result"
    }
   ],
   "source": [
    "df.head(3)"
   ]
  },
  {
   "cell_type": "markdown",
   "id": "169223d9",
   "metadata": {},
   "source": [
    "# 1. Data Preparation"
   ]
  },
  {
   "cell_type": "markdown",
   "id": "1848b8c6",
   "metadata": {},
   "source": [
    "In the machine learning process, preparing the data is a crucial stage since it may assist to guarantee that the data is correct, consistent, and suitable for modelling."
   ]
  },
  {
   "cell_type": "markdown",
   "id": "f96afc78",
   "metadata": {},
   "source": [
    "1.1 Null Values "
   ]
  },
  {
   "cell_type": "code",
   "execution_count": 4,
   "id": "92a462b5",
   "metadata": {},
   "outputs": [
    {
     "data": {
      "text/plain": [
       "Transaction ID             0\n",
       "Date                       0\n",
       "Day of Week                0\n",
       "Time                       0\n",
       "Type of Card               0\n",
       "Entry Mode                 0\n",
       "Amount                     6\n",
       "Type of Transaction        0\n",
       "Merchant Group            10\n",
       "Country of Transaction     0\n",
       "Shipping Address           5\n",
       "Country of Residence       0\n",
       "Gender                     4\n",
       "Age                        0\n",
       "Bank                       0\n",
       "Fraud                      0\n",
       "dtype: int64"
      ]
     },
     "execution_count": 4,
     "metadata": {},
     "output_type": "execute_result"
    }
   ],
   "source": [
    "df.isnull().sum()"
   ]
  },
  {
   "cell_type": "markdown",
   "id": "8adaf40e",
   "metadata": {},
   "source": [
    "Four Attributes in our dataset consists of some null values we have multiple options for dealing with \n",
    "null values but we will fill it using the mean and mode methods."
   ]
  },
  {
   "cell_type": "code",
   "execution_count": 5,
   "id": "5ac81ce7",
   "metadata": {},
   "outputs": [],
   "source": [
    "df.fillna({\"Amount\":df[\"Amount\"].mode()[0],\n",
    "           \"Merchant Group\":df[\"Merchant Group\"].mode()[0],\n",
    "           \"Shipping Address\":df[\"Shipping Address\"].mode()[0],\n",
    "           \"Gender\":df[\"Gender\"].mode()[0]},inplace=True)"
   ]
  },
  {
   "cell_type": "markdown",
   "id": "0588fc35",
   "metadata": {},
   "source": [
    "--------------------------------------------------------------------------------------------------------------------------"
   ]
  },
  {
   "cell_type": "markdown",
   "id": "c93833e6",
   "metadata": {},
   "source": [
    "1.2 Checking Data Type"
   ]
  },
  {
   "cell_type": "markdown",
   "id": "d981f374",
   "metadata": {},
   "source": [
    "Irrelevant data types are one of the worst scenario when working with such data. The Amount attribute in this data is the object type and age is of float type. A conversion is needed in order to transform them into a relevant data type"
   ]
  },
  {
   "cell_type": "code",
   "execution_count": 6,
   "id": "a04fd384",
   "metadata": {},
   "outputs": [
    {
     "name": "stdout",
     "output_type": "stream",
     "text": [
      "<class 'pandas.core.frame.DataFrame'>\n",
      "RangeIndex: 100000 entries, 0 to 99999\n",
      "Data columns (total 16 columns):\n",
      " #   Column                  Non-Null Count   Dtype  \n",
      "---  ------                  --------------   -----  \n",
      " 0   Transaction ID          100000 non-null  object \n",
      " 1   Date                    100000 non-null  object \n",
      " 2   Day of Week             100000 non-null  object \n",
      " 3   Time                    100000 non-null  int64  \n",
      " 4   Type of Card            100000 non-null  object \n",
      " 5   Entry Mode              100000 non-null  object \n",
      " 6   Amount                  100000 non-null  object \n",
      " 7   Type of Transaction     100000 non-null  object \n",
      " 8   Merchant Group          100000 non-null  object \n",
      " 9   Country of Transaction  100000 non-null  object \n",
      " 10  Shipping Address        100000 non-null  object \n",
      " 11  Country of Residence    100000 non-null  object \n",
      " 12  Gender                  100000 non-null  object \n",
      " 13  Age                     100000 non-null  float64\n",
      " 14  Bank                    100000 non-null  object \n",
      " 15  Fraud                   100000 non-null  int64  \n",
      "dtypes: float64(1), int64(2), object(13)\n",
      "memory usage: 12.2+ MB\n"
     ]
    }
   ],
   "source": [
    "df.info()"
   ]
  },
  {
   "cell_type": "code",
   "execution_count": 7,
   "id": "d64b6d2a",
   "metadata": {},
   "outputs": [],
   "source": [
    "df['Amount'] = df['Amount'].replace({'\\£':''}, regex = True)"
   ]
  },
  {
   "cell_type": "code",
   "execution_count": 8,
   "id": "6a95c66b",
   "metadata": {},
   "outputs": [],
   "source": [
    "df['Amount'] = df['Amount'].astype(str).astype(int)\n"
   ]
  },
  {
   "cell_type": "code",
   "execution_count": 9,
   "id": "3dbeb0c3",
   "metadata": {
    "scrolled": true
   },
   "outputs": [
    {
     "data": {
      "text/html": [
       "<div>\n",
       "<style scoped>\n",
       "    .dataframe tbody tr th:only-of-type {\n",
       "        vertical-align: middle;\n",
       "    }\n",
       "\n",
       "    .dataframe tbody tr th {\n",
       "        vertical-align: top;\n",
       "    }\n",
       "\n",
       "    .dataframe thead th {\n",
       "        text-align: right;\n",
       "    }\n",
       "</style>\n",
       "<table border=\"1\" class=\"dataframe\">\n",
       "  <thead>\n",
       "    <tr style=\"text-align: right;\">\n",
       "      <th></th>\n",
       "      <th>Transaction ID</th>\n",
       "      <th>Date</th>\n",
       "      <th>Day of Week</th>\n",
       "      <th>Time</th>\n",
       "      <th>Type of Card</th>\n",
       "      <th>Entry Mode</th>\n",
       "      <th>Amount</th>\n",
       "      <th>Type of Transaction</th>\n",
       "      <th>Merchant Group</th>\n",
       "      <th>Country of Transaction</th>\n",
       "      <th>Shipping Address</th>\n",
       "      <th>Country of Residence</th>\n",
       "      <th>Gender</th>\n",
       "      <th>Age</th>\n",
       "      <th>Bank</th>\n",
       "      <th>Fraud</th>\n",
       "    </tr>\n",
       "  </thead>\n",
       "  <tbody>\n",
       "    <tr>\n",
       "      <th>0</th>\n",
       "      <td>#3577 209</td>\n",
       "      <td>14-Oct-20</td>\n",
       "      <td>Wednesday</td>\n",
       "      <td>19</td>\n",
       "      <td>Visa</td>\n",
       "      <td>Tap</td>\n",
       "      <td>5</td>\n",
       "      <td>POS</td>\n",
       "      <td>Entertainment</td>\n",
       "      <td>United Kingdom</td>\n",
       "      <td>United Kingdom</td>\n",
       "      <td>United Kingdom</td>\n",
       "      <td>M</td>\n",
       "      <td>25.2</td>\n",
       "      <td>RBS</td>\n",
       "      <td>0</td>\n",
       "    </tr>\n",
       "    <tr>\n",
       "      <th>1</th>\n",
       "      <td>#3039 221</td>\n",
       "      <td>14-Oct-20</td>\n",
       "      <td>Wednesday</td>\n",
       "      <td>17</td>\n",
       "      <td>MasterCard</td>\n",
       "      <td>PIN</td>\n",
       "      <td>288</td>\n",
       "      <td>POS</td>\n",
       "      <td>Services</td>\n",
       "      <td>USA</td>\n",
       "      <td>USA</td>\n",
       "      <td>USA</td>\n",
       "      <td>F</td>\n",
       "      <td>49.6</td>\n",
       "      <td>Lloyds</td>\n",
       "      <td>0</td>\n",
       "    </tr>\n",
       "  </tbody>\n",
       "</table>\n",
       "</div>"
      ],
      "text/plain": [
       "  Transaction ID       Date Day of Week  Time Type of Card Entry Mode  Amount  \\\n",
       "0      #3577 209  14-Oct-20   Wednesday    19         Visa        Tap       5   \n",
       "1      #3039 221  14-Oct-20   Wednesday    17   MasterCard        PIN     288   \n",
       "\n",
       "  Type of Transaction Merchant Group Country of Transaction Shipping Address  \\\n",
       "0                 POS  Entertainment         United Kingdom   United Kingdom   \n",
       "1                 POS       Services                    USA              USA   \n",
       "\n",
       "  Country of Residence Gender   Age    Bank  Fraud  \n",
       "0       United Kingdom      M  25.2     RBS      0  \n",
       "1                  USA      F  49.6  Lloyds      0  "
      ]
     },
     "execution_count": 9,
     "metadata": {},
     "output_type": "execute_result"
    }
   ],
   "source": [
    "df.head(2)"
   ]
  },
  {
   "cell_type": "code",
   "execution_count": 10,
   "id": "ada62273",
   "metadata": {},
   "outputs": [],
   "source": [
    "df['Age'] = df['Age'].astype(float).astype(int)"
   ]
  },
  {
   "cell_type": "code",
   "execution_count": 11,
   "id": "f83fbf4f",
   "metadata": {},
   "outputs": [
    {
     "name": "stdout",
     "output_type": "stream",
     "text": [
      "<class 'pandas.core.frame.DataFrame'>\n",
      "RangeIndex: 100000 entries, 0 to 99999\n",
      "Data columns (total 16 columns):\n",
      " #   Column                  Non-Null Count   Dtype \n",
      "---  ------                  --------------   ----- \n",
      " 0   Transaction ID          100000 non-null  object\n",
      " 1   Date                    100000 non-null  object\n",
      " 2   Day of Week             100000 non-null  object\n",
      " 3   Time                    100000 non-null  int64 \n",
      " 4   Type of Card            100000 non-null  object\n",
      " 5   Entry Mode              100000 non-null  object\n",
      " 6   Amount                  100000 non-null  int32 \n",
      " 7   Type of Transaction     100000 non-null  object\n",
      " 8   Merchant Group          100000 non-null  object\n",
      " 9   Country of Transaction  100000 non-null  object\n",
      " 10  Shipping Address        100000 non-null  object\n",
      " 11  Country of Residence    100000 non-null  object\n",
      " 12  Gender                  100000 non-null  object\n",
      " 13  Age                     100000 non-null  int32 \n",
      " 14  Bank                    100000 non-null  object\n",
      " 15  Fraud                   100000 non-null  int64 \n",
      "dtypes: int32(2), int64(2), object(12)\n",
      "memory usage: 11.4+ MB\n"
     ]
    }
   ],
   "source": [
    "df.info()"
   ]
  },
  {
   "cell_type": "markdown",
   "id": "8e15df31",
   "metadata": {},
   "source": [
    "----------------------------------------------------------------------------------------------------------------------------"
   ]
  },
  {
   "cell_type": "markdown",
   "id": "51f104ac",
   "metadata": {},
   "source": [
    "1.3 Removing Duplicate Values "
   ]
  },
  {
   "cell_type": "markdown",
   "id": "a438609b",
   "metadata": {},
   "source": [
    "The identification and elimination of duplicate values is a crucial component of data analysis. \n",
    "The duplicated() function in Pandas only aids in the analysis of duplicate data. "
   ]
  },
  {
   "cell_type": "code",
   "execution_count": 12,
   "id": "6c9c440e",
   "metadata": {},
   "outputs": [
    {
     "data": {
      "text/plain": [
       "0"
      ]
     },
     "execution_count": 12,
     "metadata": {},
     "output_type": "execute_result"
    }
   ],
   "source": [
    "df.duplicated().sum()"
   ]
  },
  {
   "cell_type": "markdown",
   "id": "fcd46c6c",
   "metadata": {},
   "source": [
    "None of the duplicate entries are found"
   ]
  },
  {
   "cell_type": "markdown",
   "id": "7956f7a3",
   "metadata": {},
   "source": [
    "---------------------------------------------------------------------------------------------------------------------------"
   ]
  },
  {
   "cell_type": "markdown",
   "id": "301fb255",
   "metadata": {},
   "source": [
    "1.4 Outliers Detection"
   ]
  },
  {
   "cell_type": "code",
   "execution_count": 13,
   "id": "c2c56694",
   "metadata": {},
   "outputs": [
    {
     "data": {
      "text/plain": [
       "array([[<AxesSubplot:title={'center':'Amount'}>]], dtype=object)"
      ]
     },
     "execution_count": 13,
     "metadata": {},
     "output_type": "execute_result"
    },
    {
     "data": {
      "image/png": "[encoded data removed]",
      "text/plain": [
       "<Figure size 432x288 with 1 Axes>"
      ]
     },
     "metadata": {
      "needs_background": "light"
     },
     "output_type": "display_data"
    }
   ],
   "source": [
    "df.hist(column='Amount' ,color='purple')"
   ]
  },
  {
   "cell_type": "code",
   "execution_count": 14,
   "id": "f330780e",
   "metadata": {},
   "outputs": [
    {
     "data": {
      "text/plain": [
       "array([[<AxesSubplot:title={'center':'Amount'}>]], dtype=object)"
      ]
     },
     "execution_count": 14,
     "metadata": {},
     "output_type": "execute_result"
    },
    {
     "data": {
      "image/png": "[encoded data removed]",
      "text/plain": [
       "<Figure size 432x288 with 1 Axes>"
      ]
     },
     "metadata": {
      "needs_background": "light"
     },
     "output_type": "display_data"
    }
   ],
   "source": [
    "df.hist(column='Amount', color='red')"
   ]
  },
  {
   "cell_type": "code",
   "execution_count": 15,
   "id": "336cc931",
   "metadata": {},
   "outputs": [
    {
     "data": {
      "text/plain": [
       "array([[<AxesSubplot:title={'center':'Age'}>]], dtype=object)"
      ]
     },
     "execution_count": 15,
     "metadata": {},
     "output_type": "execute_result"
    },
    {
     "data": {
      "image/png": "[encoded data removed]",
      "text/plain": [
       "<Figure size 432x288 with 1 Axes>"
      ]
     },
     "metadata": {
      "needs_background": "light"
     },
     "output_type": "display_data"
    }
   ],
   "source": [
    "df.hist(column='Age',color='blue')"
   ]
  },
  {
   "cell_type": "markdown",
   "id": "2618a711",
   "metadata": {},
   "source": [
    "---------------------------------------------------------------------------------------------------------------------------"
   ]
  },
  {
   "cell_type": "markdown",
   "id": "c692fe40",
   "metadata": {},
   "source": [
    "# 2. Exploratory Data Analysis -EDA"
   ]
  },
  {
   "cell_type": "markdown",
   "id": "a1a1117e",
   "metadata": {},
   "source": [
    "2.1 Descriptive Statistics"
   ]
  },
  {
   "cell_type": "markdown",
   "id": "66e0ea00",
   "metadata": {},
   "source": [
    "Describing or summarizing the data to into different set of measures which include mean , median , std and Quartile and also minimum and max value."
   ]
  },
  {
   "cell_type": "code",
   "execution_count": 16,
   "id": "13b10c63",
   "metadata": {},
   "outputs": [
    {
     "data": {
      "text/html": [
       "<div>\n",
       "<style scoped>\n",
       "    .dataframe tbody tr th:only-of-type {\n",
       "        vertical-align: middle;\n",
       "    }\n",
       "\n",
       "    .dataframe tbody tr th {\n",
       "        vertical-align: top;\n",
       "    }\n",
       "\n",
       "    .dataframe thead th {\n",
       "        text-align: right;\n",
       "    }\n",
       "</style>\n",
       "<table border=\"1\" class=\"dataframe\">\n",
       "  <thead>\n",
       "    <tr style=\"text-align: right;\">\n",
       "      <th></th>\n",
       "      <th>Time</th>\n",
       "      <th>Amount</th>\n",
       "      <th>Age</th>\n",
       "      <th>Fraud</th>\n",
       "    </tr>\n",
       "  </thead>\n",
       "  <tbody>\n",
       "    <tr>\n",
       "      <th>count</th>\n",
       "      <td>100000.000000</td>\n",
       "      <td>100000.00000</td>\n",
       "      <td>100000.000000</td>\n",
       "      <td>100000.000000</td>\n",
       "    </tr>\n",
       "    <tr>\n",
       "      <th>mean</th>\n",
       "      <td>14.562870</td>\n",
       "      <td>112.57278</td>\n",
       "      <td>44.545070</td>\n",
       "      <td>0.071950</td>\n",
       "    </tr>\n",
       "    <tr>\n",
       "      <th>std</th>\n",
       "      <td>5.308195</td>\n",
       "      <td>123.43241</td>\n",
       "      <td>9.950405</td>\n",
       "      <td>0.258406</td>\n",
       "    </tr>\n",
       "    <tr>\n",
       "      <th>min</th>\n",
       "      <td>0.000000</td>\n",
       "      <td>5.00000</td>\n",
       "      <td>15.000000</td>\n",
       "      <td>0.000000</td>\n",
       "    </tr>\n",
       "    <tr>\n",
       "      <th>25%</th>\n",
       "      <td>10.000000</td>\n",
       "      <td>17.00000</td>\n",
       "      <td>38.000000</td>\n",
       "      <td>0.000000</td>\n",
       "    </tr>\n",
       "    <tr>\n",
       "      <th>50%</th>\n",
       "      <td>15.000000</td>\n",
       "      <td>30.00000</td>\n",
       "      <td>44.000000</td>\n",
       "      <td>0.000000</td>\n",
       "    </tr>\n",
       "    <tr>\n",
       "      <th>75%</th>\n",
       "      <td>19.000000</td>\n",
       "      <td>208.00000</td>\n",
       "      <td>51.000000</td>\n",
       "      <td>0.000000</td>\n",
       "    </tr>\n",
       "    <tr>\n",
       "      <th>max</th>\n",
       "      <td>24.000000</td>\n",
       "      <td>400.00000</td>\n",
       "      <td>86.000000</td>\n",
       "      <td>1.000000</td>\n",
       "    </tr>\n",
       "  </tbody>\n",
       "</table>\n",
       "</div>"
      ],
      "text/plain": [
       "                Time        Amount            Age          Fraud\n",
       "count  100000.000000  100000.00000  100000.000000  100000.000000\n",
       "mean       14.562870     112.57278      44.545070       0.071950\n",
       "std         5.308195     123.43241       9.950405       0.258406\n",
       "min         0.000000       5.00000      15.000000       0.000000\n",
       "25%        10.000000      17.00000      38.000000       0.000000\n",
       "50%        15.000000      30.00000      44.000000       0.000000\n",
       "75%        19.000000     208.00000      51.000000       0.000000\n",
       "max        24.000000     400.00000      86.000000       1.000000"
      ]
     },
     "execution_count": 16,
     "metadata": {},
     "output_type": "execute_result"
    }
   ],
   "source": [
    "df.describe()"
   ]
  },
  {
   "cell_type": "markdown",
   "id": "20d907d0",
   "metadata": {},
   "source": [
    "-----------------------------------------------------------------------------------------------------------------------------"
   ]
  },
  {
   "cell_type": "markdown",
   "id": "a8d29605",
   "metadata": {},
   "source": [
    "2.2 Bar Plot for Unique Counts"
   ]
  },
  {
   "cell_type": "code",
   "execution_count": 17,
   "id": "bc3783c8",
   "metadata": {},
   "outputs": [
    {
     "data": {
      "text/plain": [
       "<AxesSubplot:title={'center':'Card Type Count'}>"
      ]
     },
     "execution_count": 17,
     "metadata": {},
     "output_type": "execute_result"
    },
    {
     "data": {
      "image/png": "[encoded data removed]",
      "text/plain": [
       "<Figure size 432x288 with 1 Axes>"
      ]
     },
     "metadata": {
      "needs_background": "light"
     },
     "output_type": "display_data"
    }
   ],
   "source": [
    "pd.value_counts(df['Type of Card']).plot.bar(title='Card Type Count')"
   ]
  },
  {
   "cell_type": "code",
   "execution_count": 18,
   "id": "832ac0df",
   "metadata": {},
   "outputs": [
    {
     "data": {
      "text/plain": [
       "<AxesSubplot:title={'center':'Banks'}>"
      ]
     },
     "execution_count": 18,
     "metadata": {},
     "output_type": "execute_result"
    },
    {
     "data": {
      "image/png": "[encoded data removed]",
      "text/plain": [
       "<Figure size 432x288 with 1 Axes>"
      ]
     },
     "metadata": {
      "needs_background": "light"
     },
     "output_type": "display_data"
    }
   ],
   "source": [
    "pd.value_counts(df['Bank']).plot.bar(title='Banks',color='black')"
   ]
  },
  {
   "cell_type": "code",
   "execution_count": 19,
   "id": "38cc6552",
   "metadata": {},
   "outputs": [
    {
     "data": {
      "text/plain": [
       "<AxesSubplot:title={'center':'Card Use By Groups'}>"
      ]
     },
     "execution_count": 19,
     "metadata": {},
     "output_type": "execute_result"
    },
    {
     "data": {
      "image/png": "[encoded data removed]",
      "text/plain": [
       "<Figure size 432x288 with 1 Axes>"
      ]
     },
     "metadata": {
      "needs_background": "light"
     },
     "output_type": "display_data"
    }
   ],
   "source": [
    "pd.value_counts(df['Merchant Group']).plot.bar(title='Card Use By Groups',color='red')"
   ]
  },
  {
   "cell_type": "code",
   "execution_count": 20,
   "id": "b269304a",
   "metadata": {},
   "outputs": [
    {
     "data": {
      "text/plain": [
       "<AxesSubplot:title={'center':'Total Number of Fraudelent'}>"
      ]
     },
     "execution_count": 20,
     "metadata": {},
     "output_type": "execute_result"
    },
    {
     "data": {
      "image/png": "[encoded data removed]",
      "text/plain": [
       "<Figure size 432x288 with 1 Axes>"
      ]
     },
     "metadata": {
      "needs_background": "light"
     },
     "output_type": "display_data"
    }
   ],
   "source": [
    "pd.value_counts(df['Fraud']).plot.bar(title='Total Number of Fraudelent',color='purple')"
   ]
  },
  {
   "cell_type": "code",
   "execution_count": 21,
   "id": "b6924086",
   "metadata": {},
   "outputs": [
    {
     "data": {
      "text/plain": [
       "<AxesSubplot:title={'center':'Billing Countries'}>"
      ]
     },
     "execution_count": 21,
     "metadata": {},
     "output_type": "execute_result"
    },
    {
     "data": {
      "image/png": "[encoded data removed]",
      "text/plain": [
       "<Figure size 432x288 with 1 Axes>"
      ]
     },
     "metadata": {
      "needs_background": "light"
     },
     "output_type": "display_data"
    }
   ],
   "source": [
    "pd.value_counts(df['Country of Transaction']).plot.bar(title='Billing Countries',color='Purple')"
   ]
  },
  {
   "cell_type": "markdown",
   "id": "78e1cd5d",
   "metadata": {},
   "source": [
    "---------------------------------------------------------------------------------------------------------------------------"
   ]
  },
  {
   "cell_type": "markdown",
   "id": "2f8e51fb",
   "metadata": {},
   "source": [
    "2.3 Correlation HeatMap"
   ]
  },
  {
   "cell_type": "code",
   "execution_count": 22,
   "id": "91cc425a",
   "metadata": {},
   "outputs": [
    {
     "data": {
      "text/html": [
       "<div>\n",
       "<style scoped>\n",
       "    .dataframe tbody tr th:only-of-type {\n",
       "        vertical-align: middle;\n",
       "    }\n",
       "\n",
       "    .dataframe tbody tr th {\n",
       "        vertical-align: top;\n",
       "    }\n",
       "\n",
       "    .dataframe thead th {\n",
       "        text-align: right;\n",
       "    }\n",
       "</style>\n",
       "<table border=\"1\" class=\"dataframe\">\n",
       "  <thead>\n",
       "    <tr style=\"text-align: right;\">\n",
       "      <th></th>\n",
       "      <th>Time</th>\n",
       "      <th>Amount</th>\n",
       "      <th>Age</th>\n",
       "      <th>Fraud</th>\n",
       "    </tr>\n",
       "  </thead>\n",
       "  <tbody>\n",
       "    <tr>\n",
       "      <th>Time</th>\n",
       "      <td>1.000000</td>\n",
       "      <td>0.030017</td>\n",
       "      <td>-0.000979</td>\n",
       "      <td>-0.286375</td>\n",
       "    </tr>\n",
       "    <tr>\n",
       "      <th>Amount</th>\n",
       "      <td>0.030017</td>\n",
       "      <td>1.000000</td>\n",
       "      <td>-0.004437</td>\n",
       "      <td>-0.109864</td>\n",
       "    </tr>\n",
       "    <tr>\n",
       "      <th>Age</th>\n",
       "      <td>-0.000979</td>\n",
       "      <td>-0.004437</td>\n",
       "      <td>1.000000</td>\n",
       "      <td>-0.002877</td>\n",
       "    </tr>\n",
       "    <tr>\n",
       "      <th>Fraud</th>\n",
       "      <td>-0.286375</td>\n",
       "      <td>-0.109864</td>\n",
       "      <td>-0.002877</td>\n",
       "      <td>1.000000</td>\n",
       "    </tr>\n",
       "  </tbody>\n",
       "</table>\n",
       "</div>"
      ],
      "text/plain": [
       "            Time    Amount       Age     Fraud\n",
       "Time    1.000000  0.030017 -0.000979 -0.286375\n",
       "Amount  0.030017  1.000000 -0.004437 -0.109864\n",
       "Age    -0.000979 -0.004437  1.000000 -0.002877\n",
       "Fraud  -0.286375 -0.109864 -0.002877  1.000000"
      ]
     },
     "execution_count": 22,
     "metadata": {},
     "output_type": "execute_result"
    }
   ],
   "source": [
    "df.corr()"
   ]
  },
  {
   "cell_type": "code",
   "execution_count": 23,
   "id": "a56734ef",
   "metadata": {},
   "outputs": [
    {
     "data": {
      "text/plain": [
       "<AxesSubplot:>"
      ]
     },
     "execution_count": 23,
     "metadata": {},
     "output_type": "execute_result"
    },
    {
     "data": {
      "image/png": "[encoded data removed]",
      "text/plain": [
       "<Figure size 432x288 with 2 Axes>"
      ]
     },
     "metadata": {
      "needs_background": "light"
     },
     "output_type": "display_data"
    }
   ],
   "source": [
    "sns.heatmap(df.corr())"
   ]
  },
  {
   "cell_type": "markdown",
   "id": "6972af55",
   "metadata": {},
   "source": [
    "---------------------------------------------------------------------------------------------------------------------------"
   ]
  },
  {
   "cell_type": "markdown",
   "id": "0609a1a7",
   "metadata": {},
   "source": [
    "2.4 Pie Chart"
   ]
  },
  {
   "cell_type": "code",
   "execution_count": 24,
   "id": "cbf5fe7e",
   "metadata": {},
   "outputs": [
    {
     "data": {
      "text/plain": [
       "<AxesSubplot:title={'center':'Amount By Each Card'}, ylabel='Amount'>"
      ]
     },
     "execution_count": 24,
     "metadata": {},
     "output_type": "execute_result"
    },
    {
     "data": {
      "image/png": "[encoded data removed]",
      "text/plain": [
       "<Figure size 432x288 with 1 Axes>"
      ]
     },
     "metadata": {},
     "output_type": "display_data"
    }
   ],
   "source": [
    "df.groupby(['Type of Card']).sum().plot(kind='pie', y='Amount',autopct='%1.0f%%',title='Amount By Each Card',shadow=True)"
   ]
  },
  {
   "cell_type": "code",
   "execution_count": 25,
   "id": "8066ecda",
   "metadata": {},
   "outputs": [
    {
     "data": {
      "text/plain": [
       "<AxesSubplot:title={'center':'Card Holder By Gender'}, ylabel='Fraud'>"
      ]
     },
     "execution_count": 25,
     "metadata": {},
     "output_type": "execute_result"
    },
    {
     "data": {
      "image/png": "[encoded data removed]",
      "text/plain": [
       "<Figure size 432x288 with 1 Axes>"
      ]
     },
     "metadata": {},
     "output_type": "display_data"
    }
   ],
   "source": [
    "df.groupby(['Gender']).sum().plot(kind='pie', y='Fraud',autopct='%1.0f%%',title='Card Holder By Gender',shadow=True)"
   ]
  },
  {
   "cell_type": "markdown",
   "id": "1de6602d",
   "metadata": {},
   "source": [
    "---------------------------------------------------------------------------------------------------------------------------"
   ]
  },
  {
   "cell_type": "code",
   "execution_count": 26,
   "id": "8f5a0d01",
   "metadata": {},
   "outputs": [
    {
     "data": {
      "text/html": [
       "<div>\n",
       "<style scoped>\n",
       "    .dataframe tbody tr th:only-of-type {\n",
       "        vertical-align: middle;\n",
       "    }\n",
       "\n",
       "    .dataframe tbody tr th {\n",
       "        vertical-align: top;\n",
       "    }\n",
       "\n",
       "    .dataframe thead th {\n",
       "        text-align: right;\n",
       "    }\n",
       "</style>\n",
       "<table border=\"1\" class=\"dataframe\">\n",
       "  <thead>\n",
       "    <tr style=\"text-align: right;\">\n",
       "      <th></th>\n",
       "      <th>Transaction ID</th>\n",
       "      <th>Date</th>\n",
       "      <th>Day of Week</th>\n",
       "      <th>Time</th>\n",
       "      <th>Type of Card</th>\n",
       "      <th>Entry Mode</th>\n",
       "      <th>Amount</th>\n",
       "      <th>Type of Transaction</th>\n",
       "      <th>Merchant Group</th>\n",
       "      <th>Country of Transaction</th>\n",
       "      <th>Shipping Address</th>\n",
       "      <th>Country of Residence</th>\n",
       "      <th>Gender</th>\n",
       "      <th>Age</th>\n",
       "      <th>Bank</th>\n",
       "      <th>Fraud</th>\n",
       "    </tr>\n",
       "  </thead>\n",
       "  <tbody>\n",
       "    <tr>\n",
       "      <th>0</th>\n",
       "      <td>#3577 209</td>\n",
       "      <td>14-Oct-20</td>\n",
       "      <td>Wednesday</td>\n",
       "      <td>19</td>\n",
       "      <td>Visa</td>\n",
       "      <td>Tap</td>\n",
       "      <td>5</td>\n",
       "      <td>POS</td>\n",
       "      <td>Entertainment</td>\n",
       "      <td>United Kingdom</td>\n",
       "      <td>United Kingdom</td>\n",
       "      <td>United Kingdom</td>\n",
       "      <td>M</td>\n",
       "      <td>25</td>\n",
       "      <td>RBS</td>\n",
       "      <td>0</td>\n",
       "    </tr>\n",
       "    <tr>\n",
       "      <th>1</th>\n",
       "      <td>#3039 221</td>\n",
       "      <td>14-Oct-20</td>\n",
       "      <td>Wednesday</td>\n",
       "      <td>17</td>\n",
       "      <td>MasterCard</td>\n",
       "      <td>PIN</td>\n",
       "      <td>288</td>\n",
       "      <td>POS</td>\n",
       "      <td>Services</td>\n",
       "      <td>USA</td>\n",
       "      <td>USA</td>\n",
       "      <td>USA</td>\n",
       "      <td>F</td>\n",
       "      <td>49</td>\n",
       "      <td>Lloyds</td>\n",
       "      <td>0</td>\n",
       "    </tr>\n",
       "    <tr>\n",
       "      <th>2</th>\n",
       "      <td>#2694 780</td>\n",
       "      <td>14-Oct-20</td>\n",
       "      <td>Wednesday</td>\n",
       "      <td>14</td>\n",
       "      <td>Visa</td>\n",
       "      <td>Tap</td>\n",
       "      <td>5</td>\n",
       "      <td>POS</td>\n",
       "      <td>Restaurant</td>\n",
       "      <td>India</td>\n",
       "      <td>India</td>\n",
       "      <td>India</td>\n",
       "      <td>F</td>\n",
       "      <td>42</td>\n",
       "      <td>Barclays</td>\n",
       "      <td>0</td>\n",
       "    </tr>\n",
       "    <tr>\n",
       "      <th>3</th>\n",
       "      <td>#2640 960</td>\n",
       "      <td>13-Oct-20</td>\n",
       "      <td>Tuesday</td>\n",
       "      <td>14</td>\n",
       "      <td>Visa</td>\n",
       "      <td>Tap</td>\n",
       "      <td>28</td>\n",
       "      <td>POS</td>\n",
       "      <td>Entertainment</td>\n",
       "      <td>United Kingdom</td>\n",
       "      <td>India</td>\n",
       "      <td>United Kingdom</td>\n",
       "      <td>F</td>\n",
       "      <td>51</td>\n",
       "      <td>Barclays</td>\n",
       "      <td>0</td>\n",
       "    </tr>\n",
       "  </tbody>\n",
       "</table>\n",
       "</div>"
      ],
      "text/plain": [
       "  Transaction ID       Date Day of Week  Time Type of Card Entry Mode  Amount  \\\n",
       "0      #3577 209  14-Oct-20   Wednesday    19         Visa        Tap       5   \n",
       "1      #3039 221  14-Oct-20   Wednesday    17   MasterCard        PIN     288   \n",
       "2      #2694 780  14-Oct-20   Wednesday    14         Visa        Tap       5   \n",
       "3      #2640 960  13-Oct-20     Tuesday    14         Visa        Tap      28   \n",
       "\n",
       "  Type of Transaction Merchant Group Country of Transaction Shipping Address  \\\n",
       "0                 POS  Entertainment         United Kingdom   United Kingdom   \n",
       "1                 POS       Services                    USA              USA   \n",
       "2                 POS     Restaurant                  India            India   \n",
       "3                 POS  Entertainment         United Kingdom            India   \n",
       "\n",
       "  Country of Residence Gender  Age      Bank  Fraud  \n",
       "0       United Kingdom      M   25       RBS      0  \n",
       "1                  USA      F   49    Lloyds      0  \n",
       "2                India      F   42  Barclays      0  \n",
       "3       United Kingdom      F   51  Barclays      0  "
      ]
     },
     "execution_count": 26,
     "metadata": {},
     "output_type": "execute_result"
    }
   ],
   "source": [
    "df.head(4)"
   ]
  },
  {
   "cell_type": "markdown",
   "id": "ef4fbf38",
   "metadata": {},
   "source": [
    "# 3. Feature Selection"
   ]
  },
  {
   "cell_type": "markdown",
   "id": "bae506d8",
   "metadata": {},
   "source": [
    "The selection of features are based on some correlations values which provides negative correlation among some numerical and target variable. The selection of other features are based on the assumptions and their relevance with the Fraud Variable\n",
    "Step to Omit some attributes are based on the value they contain for example ID is surely not a relevant data attribute to predict about the Fraud, Same is the case with dates value and Gender , age also couldnot determine the fraud detection."
   ]
  },
  {
   "cell_type": "code",
   "execution_count": 27,
   "id": "9b3a8f8d",
   "metadata": {},
   "outputs": [],
   "source": [
    "X=df[['Entry Mode','Time','Country of Transaction','Shipping Address','Country of Residence']]\n",
    "y=df['Fraud']"
   ]
  },
  {
   "cell_type": "markdown",
   "id": "75030835",
   "metadata": {},
   "source": [
    "3.1 Conversion of Categorical Variable to Numeric "
   ]
  },
  {
   "cell_type": "code",
   "execution_count": 28,
   "id": "df829d81",
   "metadata": {},
   "outputs": [],
   "source": [
    "categorical_columns = X.select_dtypes(['object']).columns"
   ]
  },
  {
   "cell_type": "code",
   "execution_count": 29,
   "id": "048d91c7",
   "metadata": {},
   "outputs": [
    {
     "name": "stderr",
     "output_type": "stream",
     "text": [
      "c:\\users\\ht\\appdata\\local\\programs\\python\\python37\\lib\\site-packages\\pandas\\core\\frame.py:3641: SettingWithCopyWarning: \n",
      "A value is trying to be set on a copy of a slice from a DataFrame.\n",
      "Try using .loc[row_indexer,col_indexer] = value instead\n",
      "\n",
      "See the caveats in the documentation: https://pandas.pydata.org/pandas-docs/stable/user_guide/indexing.html#returning-a-view-versus-a-copy\n",
      "  self[k1] = value[k2]\n"
     ]
    }
   ],
   "source": [
    "X[categorical_columns] = X[categorical_columns].apply(lambda x: pd.factorize(x)[0])"
   ]
  },
  {
   "cell_type": "code",
   "execution_count": 30,
   "id": "ab38a059",
   "metadata": {},
   "outputs": [
    {
     "data": {
      "text/html": [
       "<div>\n",
       "<style scoped>\n",
       "    .dataframe tbody tr th:only-of-type {\n",
       "        vertical-align: middle;\n",
       "    }\n",
       "\n",
       "    .dataframe tbody tr th {\n",
       "        vertical-align: top;\n",
       "    }\n",
       "\n",
       "    .dataframe thead th {\n",
       "        text-align: right;\n",
       "    }\n",
       "</style>\n",
       "<table border=\"1\" class=\"dataframe\">\n",
       "  <thead>\n",
       "    <tr style=\"text-align: right;\">\n",
       "      <th></th>\n",
       "      <th>Entry Mode</th>\n",
       "      <th>Time</th>\n",
       "      <th>Country of Transaction</th>\n",
       "      <th>Shipping Address</th>\n",
       "      <th>Country of Residence</th>\n",
       "    </tr>\n",
       "  </thead>\n",
       "  <tbody>\n",
       "    <tr>\n",
       "      <th>0</th>\n",
       "      <td>0</td>\n",
       "      <td>19</td>\n",
       "      <td>0</td>\n",
       "      <td>0</td>\n",
       "      <td>0</td>\n",
       "    </tr>\n",
       "    <tr>\n",
       "      <th>1</th>\n",
       "      <td>1</td>\n",
       "      <td>17</td>\n",
       "      <td>1</td>\n",
       "      <td>1</td>\n",
       "      <td>1</td>\n",
       "    </tr>\n",
       "    <tr>\n",
       "      <th>2</th>\n",
       "      <td>0</td>\n",
       "      <td>14</td>\n",
       "      <td>2</td>\n",
       "      <td>2</td>\n",
       "      <td>2</td>\n",
       "    </tr>\n",
       "    <tr>\n",
       "      <th>3</th>\n",
       "      <td>0</td>\n",
       "      <td>14</td>\n",
       "      <td>0</td>\n",
       "      <td>2</td>\n",
       "      <td>0</td>\n",
       "    </tr>\n",
       "    <tr>\n",
       "      <th>4</th>\n",
       "      <td>2</td>\n",
       "      <td>23</td>\n",
       "      <td>1</td>\n",
       "      <td>1</td>\n",
       "      <td>0</td>\n",
       "    </tr>\n",
       "    <tr>\n",
       "      <th>...</th>\n",
       "      <td>...</td>\n",
       "      <td>...</td>\n",
       "      <td>...</td>\n",
       "      <td>...</td>\n",
       "      <td>...</td>\n",
       "    </tr>\n",
       "    <tr>\n",
       "      <th>99995</th>\n",
       "      <td>0</td>\n",
       "      <td>22</td>\n",
       "      <td>0</td>\n",
       "      <td>0</td>\n",
       "      <td>0</td>\n",
       "    </tr>\n",
       "    <tr>\n",
       "      <th>99996</th>\n",
       "      <td>1</td>\n",
       "      <td>23</td>\n",
       "      <td>3</td>\n",
       "      <td>3</td>\n",
       "      <td>3</td>\n",
       "    </tr>\n",
       "    <tr>\n",
       "      <th>99997</th>\n",
       "      <td>1</td>\n",
       "      <td>11</td>\n",
       "      <td>0</td>\n",
       "      <td>0</td>\n",
       "      <td>0</td>\n",
       "    </tr>\n",
       "    <tr>\n",
       "      <th>99998</th>\n",
       "      <td>0</td>\n",
       "      <td>22</td>\n",
       "      <td>0</td>\n",
       "      <td>0</td>\n",
       "      <td>0</td>\n",
       "    </tr>\n",
       "    <tr>\n",
       "      <th>99999</th>\n",
       "      <td>1</td>\n",
       "      <td>16</td>\n",
       "      <td>0</td>\n",
       "      <td>0</td>\n",
       "      <td>0</td>\n",
       "    </tr>\n",
       "  </tbody>\n",
       "</table>\n",
       "<p>100000 rows × 5 columns</p>\n",
       "</div>"
      ],
      "text/plain": [
       "       Entry Mode  Time  Country of Transaction  Shipping Address  \\\n",
       "0               0    19                       0                 0   \n",
       "1               1    17                       1                 1   \n",
       "2               0    14                       2                 2   \n",
       "3               0    14                       0                 2   \n",
       "4               2    23                       1                 1   \n",
       "...           ...   ...                     ...               ...   \n",
       "99995           0    22                       0                 0   \n",
       "99996           1    23                       3                 3   \n",
       "99997           1    11                       0                 0   \n",
       "99998           0    22                       0                 0   \n",
       "99999           1    16                       0                 0   \n",
       "\n",
       "       Country of Residence  \n",
       "0                         0  \n",
       "1                         1  \n",
       "2                         2  \n",
       "3                         0  \n",
       "4                         0  \n",
       "...                     ...  \n",
       "99995                     0  \n",
       "99996                     3  \n",
       "99997                     0  \n",
       "99998                     0  \n",
       "99999                     0  \n",
       "\n",
       "[100000 rows x 5 columns]"
      ]
     },
     "execution_count": 30,
     "metadata": {},
     "output_type": "execute_result"
    }
   ],
   "source": [
    "X"
   ]
  },
  {
   "cell_type": "markdown",
   "id": "b273bbc5",
   "metadata": {},
   "source": [
    "3.2 Train-Test Split"
   ]
  },
  {
   "cell_type": "code",
   "execution_count": 31,
   "id": "a2f637f6",
   "metadata": {},
   "outputs": [],
   "source": [
    "x_train, x_test, y_train, y_test= train_test_split(X, y, test_size= 0.30,random_state=42)  "
   ]
  },
  {
   "cell_type": "markdown",
   "id": "2aa7f2c9",
   "metadata": {},
   "source": [
    "----------------------------------------------------------------------------------------------------------------------------"
   ]
  },
  {
   "cell_type": "markdown",
   "id": "b47813d1",
   "metadata": {},
   "source": [
    "# 4. Model Building"
   ]
  },
  {
   "cell_type": "markdown",
   "id": "9eea80d4",
   "metadata": {},
   "source": [
    "# 4.1 Logistic  Regression"
   ]
  },
  {
   "cell_type": "code",
   "execution_count": 32,
   "id": "3ef6e6a3",
   "metadata": {},
   "outputs": [],
   "source": [
    "from sklearn.linear_model import LogisticRegression"
   ]
  },
  {
   "cell_type": "code",
   "execution_count": 33,
   "id": "5a32cdb7",
   "metadata": {},
   "outputs": [
    {
     "data": {
      "text/plain": [
       "LogisticRegression(random_state=42)"
      ]
     },
     "execution_count": 33,
     "metadata": {},
     "output_type": "execute_result"
    }
   ],
   "source": [
    "logistic_model= LogisticRegression(random_state=42)  \n",
    "logistic_model.fit(x_train, y_train)  "
   ]
  },
  {
   "cell_type": "code",
   "execution_count": 34,
   "id": "62f8db41",
   "metadata": {},
   "outputs": [
    {
     "data": {
      "text/plain": [
       "0.9466142857142857"
      ]
     },
     "execution_count": 34,
     "metadata": {},
     "output_type": "execute_result"
    }
   ],
   "source": [
    "logistic_model.score(x_train,y_train)"
   ]
  },
  {
   "cell_type": "raw",
   "id": "e1e63e14",
   "metadata": {},
   "source": [
    "Strength:-\n",
    "The strength of logistic model when detecting the fraud and auditing. Auditors will be relieved of the burden of superfluous data scrutiny during audits and be able to complete audits on smaller samples in less time if the model makes accurate predictions.  By doing this, audit quality will improve and audit expenses will come down.(Boztepe and Usul, 2019)"
   ]
  },
  {
   "cell_type": "raw",
   "id": "0a8afb0c",
   "metadata": {},
   "source": [
    "Limitations :-\n",
    "Logistic model limits the detection when  data from 12 patients who had the risk characteristics but did not undergo a gall bladder operation were included. The needed tests were necessary to make the diagnosis of laparoscopic cholecystectomy. Unoperated patient data was regarded as representing fictitious operations.  The study comprised 119 individuals who applied with a diagnosis of gall bladder illnesses and satisfied the model's established criteria, as well as 12 patients who did not have surgery but were present in the aforementioned healthcare institution in 2015. Thus, the primary study group included 131 patients, 12 of whom had not undergone surgery. (Boztepe and Usul, 2019)\n"
   ]
  },
  {
   "cell_type": "markdown",
   "id": "30253f25",
   "metadata": {},
   "source": [
    "-------------------------------------------------------------------------------------------------------------------------------"
   ]
  },
  {
   "cell_type": "markdown",
   "id": "a7860e76",
   "metadata": {},
   "source": [
    "# 4.2 Decision Tree Classifier"
   ]
  },
  {
   "cell_type": "code",
   "execution_count": 35,
   "id": "4761cfb3",
   "metadata": {},
   "outputs": [],
   "source": [
    "from sklearn.tree import DecisionTreeClassifier"
   ]
  },
  {
   "cell_type": "code",
   "execution_count": 36,
   "id": "971ce0ce",
   "metadata": {},
   "outputs": [
    {
     "data": {
      "text/plain": [
       "DecisionTreeClassifier(random_state=42)"
      ]
     },
     "execution_count": 36,
     "metadata": {},
     "output_type": "execute_result"
    }
   ],
   "source": [
    "decision_tree=DecisionTreeClassifier(random_state=42)\n",
    "decision_tree.fit(x_train,y_train)"
   ]
  },
  {
   "cell_type": "code",
   "execution_count": 37,
   "id": "9e7b8897",
   "metadata": {},
   "outputs": [
    {
     "data": {
      "text/plain": [
       "0.9729714285714286"
      ]
     },
     "execution_count": 37,
     "metadata": {},
     "output_type": "execute_result"
    }
   ],
   "source": [
    "decision_tree.score(x_train,y_train)"
   ]
  },
  {
   "cell_type": "raw",
   "id": "72508b55",
   "metadata": {},
   "source": [
    "Strength :-\n",
    "When the decision tree classifier used as a binary  classifier was simple to comprehend and no hypothesis were taken for the goodness of results. (Charbuty and Abdulazeez, 2021)"
   ]
  },
  {
   "cell_type": "raw",
   "id": "8c7add6c",
   "metadata": {},
   "source": [
    "Limitations:-\n",
    "Because of complex  or enrich training data complexity in the calculation may increase. It can classify the wrong classes at the same time.(Charbuty and Abdulazeez, 2021)"
   ]
  },
  {
   "cell_type": "markdown",
   "id": "6648c4af",
   "metadata": {},
   "source": [
    "-------------------------------------------------------------------------------------------------------------------------------"
   ]
  },
  {
   "cell_type": "markdown",
   "id": "fc0cab37",
   "metadata": {},
   "source": [
    "# 4.3  Random Forest Classifier"
   ]
  },
  {
   "cell_type": "code",
   "execution_count": 38,
   "id": "a10baabd",
   "metadata": {},
   "outputs": [],
   "source": [
    "from sklearn.ensemble import RandomForestClassifier "
   ]
  },
  {
   "cell_type": "code",
   "execution_count": 39,
   "id": "bc7d5271",
   "metadata": {},
   "outputs": [
    {
     "data": {
      "text/plain": [
       "RandomForestClassifier(n_estimators=1000)"
      ]
     },
     "execution_count": 39,
     "metadata": {},
     "output_type": "execute_result"
    }
   ],
   "source": [
    "random_forest=RandomForestClassifier(n_estimators=1000) \n",
    "random_forest.fit(x_train,y_train)"
   ]
  },
  {
   "cell_type": "code",
   "execution_count": 40,
   "id": "7d78cb1a",
   "metadata": {},
   "outputs": [
    {
     "data": {
      "text/plain": [
       "0.9729714285714286"
      ]
     },
     "execution_count": 40,
     "metadata": {},
     "output_type": "execute_result"
    }
   ],
   "source": [
    "random_forest.score(x_train,y_train)"
   ]
  },
  {
   "cell_type": "raw",
   "id": "898251ae",
   "metadata": {},
   "source": [
    "Strength :-\n",
    "Random forest can handle both regression and classification problems, including multi-class classification, and is surprisingly adaptable and very accurate. It is also reasonably quick to train and make predictions.  Additionally, random forest can compute the significance of each variable in the classification process and handle large data sets with noise and high dimensionality.  Random forest has less variation than a single decision tree and is not susceptible to statistical assumptions or preprocessing load. Additionally, it is stronger than boosting. Additionally, it prevents overfitting and is capable of missing value imputation, outlier detection, and differential class weighting.(Zhu, 2020)"
   ]
  },
  {
   "cell_type": "raw",
   "id": "e37be49d",
   "metadata": {},
   "source": [
    "Limitations:-\n",
    "When the objective is to learn more about the link between features and the target and the level of effect they have, random forest fails to reflect the inherent relationship between features and the target.  For instance, classifiers like LASSO and logistic regression are better options than random forest in the situation to establish whether there is a positive or negative association between a feature and a target, and how much it impacts the output.  Additionally, because of overfitting, random forest finds it challenging to extrapolate predictions of data from sources other than the initial training data.(Zhu, 2020)"
   ]
  },
  {
   "cell_type": "markdown",
   "id": "79a6ad9f",
   "metadata": {},
   "source": [
    "------------------------------------------------------------------------------------------------------------------------------"
   ]
  },
  {
   "cell_type": "markdown",
   "id": "93fbfdca",
   "metadata": {},
   "source": [
    "# 4.4 Baggy Classifier"
   ]
  },
  {
   "cell_type": "code",
   "execution_count": 41,
   "id": "f759306b",
   "metadata": {},
   "outputs": [],
   "source": [
    "from sklearn.ensemble import BaggingClassifier"
   ]
  },
  {
   "cell_type": "code",
   "execution_count": 42,
   "id": "145542e5",
   "metadata": {},
   "outputs": [
    {
     "data": {
      "text/plain": [
       "0.9716142857142858"
      ]
     },
     "execution_count": 42,
     "metadata": {},
     "output_type": "execute_result"
    }
   ],
   "source": [
    "bagging_model=BaggingClassifier(\n",
    "base_estimator=RandomForestClassifier(),\n",
    "    n_estimators=100,\n",
    "    max_samples=0.5,\n",
    "    oob_score=True,\n",
    "    random_state=0\n",
    ")\n",
    "bagging_model.fit(x_train,y_train)\n",
    "bagging_model.oob_score_"
   ]
  },
  {
   "cell_type": "raw",
   "id": "b69b1973",
   "metadata": {},
   "source": [
    "Strength :- \n",
    "In the fraud detection bagging classifier model worked out to be the best due to the imbalancing of the dataset it can handle any kind of data with any sort of value and avoid confusions like other BIAS classifier.(Zareapoor and Shamsolmoali, 2015)"
   ]
  },
  {
   "cell_type": "markdown",
   "id": "ead1b2e5",
   "metadata": {},
   "source": [
    "--------------------------------------------------------------------------------------------------------------------------------"
   ]
  },
  {
   "cell_type": "markdown",
   "id": "d2f19ec9",
   "metadata": {},
   "source": [
    "# 4.5 AdaBoost Classifier"
   ]
  },
  {
   "cell_type": "code",
   "execution_count": 43,
   "id": "05ce6475",
   "metadata": {},
   "outputs": [],
   "source": [
    "from sklearn.ensemble import AdaBoostClassifier"
   ]
  },
  {
   "cell_type": "code",
   "execution_count": 44,
   "id": "8e3a327e",
   "metadata": {},
   "outputs": [
    {
     "data": {
      "text/plain": [
       "AdaBoostClassifier(learning_rate=1, n_estimators=100, random_state=0)"
      ]
     },
     "execution_count": 44,
     "metadata": {},
     "output_type": "execute_result"
    }
   ],
   "source": [
    "Ada_model = AdaBoostClassifier(n_estimators=100, learning_rate=1, random_state=0)\n",
    "Ada_model.fit(x_train,y_train)"
   ]
  },
  {
   "cell_type": "code",
   "execution_count": 45,
   "id": "b25d561a",
   "metadata": {},
   "outputs": [
    {
     "data": {
      "text/plain": [
       "0.9717857142857143"
      ]
     },
     "execution_count": 45,
     "metadata": {},
     "output_type": "execute_result"
    }
   ],
   "source": [
    "Ada_model.score(x_train,y_train)"
   ]
  },
  {
   "cell_type": "raw",
   "id": "29eb6ac3",
   "metadata": {},
   "source": [
    "Strength:-\n",
    "AdaBoost offers the benefits of being swift in speed, easy to use, and simple to programme. Other than the amount of iterations, no parameters need to be changed.  Without any prior knowledge of WeakLearn, it may be flexibly integrated with any approach to search for weak hypotheses. It can offer a set of theoretical learning guarantees if there is enough data and a weak learn with only moderately trustworthy accuracy. Instead than attempting to create an accurate algorithm that covers the entire domain, it concentrates on finding a weak learning approach that is just superior to random prediction. (Chengsheng, Huacheng and Bing, 2017)"
   ]
  },
  {
   "cell_type": "raw",
   "id": "911afe2d",
   "metadata": {},
   "source": [
    "Limitations:-\n",
    "AdaBoost limitations exists as  real performance in a given issue obviously depends on data and WeakLearn; in the absence of enough data, it performs poorly with too complicated and underpowered hypotheses and seems to be particularly noise-sensitive.(Chengsheng, Huacheng and Bing, 2017)"
   ]
  },
  {
   "cell_type": "markdown",
   "id": "d9ed8ebc",
   "metadata": {},
   "source": [
    "--------------------------------------------------------------------------------------------------------------------------"
   ]
  },
  {
   "cell_type": "markdown",
   "id": "06fb120d",
   "metadata": {},
   "source": [
    "# 4.6 XGBoost Classifier"
   ]
  },
  {
   "cell_type": "code",
   "execution_count": 46,
   "id": "206ee194",
   "metadata": {},
   "outputs": [
    {
     "data": {
      "text/plain": [
       "XGBClassifier(base_score=0.5, booster='gbtree', callbacks=None,\n",
       "              colsample_bylevel=1, colsample_bynode=1, colsample_bytree=1,\n",
       "              early_stopping_rounds=None, enable_categorical=False,\n",
       "              eval_metric=None, gamma=0, gpu_id=-1, grow_policy='depthwise',\n",
       "              importance_type=None, interaction_constraints='',\n",
       "              learning_rate=0.300000012, max_bin=256, max_cat_to_onehot=4,\n",
       "              max_delta_step=0, max_depth=6, max_leaves=0, min_child_weight=1,\n",
       "              missing=nan, monotone_constraints='()', n_estimators=100,\n",
       "              n_jobs=0, num_parallel_tree=1, predictor='auto', random_state=0,\n",
       "              reg_alpha=0, reg_lambda=1, ...)"
      ]
     },
     "execution_count": 46,
     "metadata": {},
     "output_type": "execute_result"
    }
   ],
   "source": [
    "xgb_classifier = xgb.XGBClassifier()\n",
    "xgb_classifier.fit(x_train,y_train)"
   ]
  },
  {
   "cell_type": "code",
   "execution_count": 47,
   "id": "41a20649",
   "metadata": {},
   "outputs": [
    {
     "data": {
      "text/plain": [
       "0.9728714285714286"
      ]
     },
     "execution_count": 47,
     "metadata": {},
     "output_type": "execute_result"
    }
   ],
   "source": [
    "xgb_classifier.score(x_train,y_train)"
   ]
  },
  {
   "cell_type": "raw",
   "id": "33d667e6",
   "metadata": {},
   "source": [
    "Limitations:-\n",
    "The findings of the study demonstrate that gradient boosting was the most accurate classifier in terms of the number of issues with the best performance in the problems examined. However, in terms of average ranks, the differences between XGBoost and random forest using the default parameters are not statistically significant. We found that the least effective approaches were XGBoost and gradient boosting when trained with the packages' default parameters.(Bentejac, Csorgo and Martinez-Munoz, 2019)"
   ]
  },
  {
   "cell_type": "markdown",
   "id": "0c804a5d",
   "metadata": {},
   "source": [
    "-------------------------------------------------------------------------------------------------------------------------------"
   ]
  },
  {
   "cell_type": "markdown",
   "id": "c33b67b0",
   "metadata": {},
   "source": [
    "# 4.7 Artificial Neural Network - ANN"
   ]
  },
  {
   "cell_type": "code",
   "execution_count": 48,
   "id": "afc1fcae",
   "metadata": {},
   "outputs": [
    {
     "name": "stdout",
     "output_type": "stream",
     "text": [
      "2188/2188 [==============================] - 9s 3ms/step - loss: 1.3095 - accuracy: 0.6423\n"
     ]
    },
    {
     "data": {
      "text/plain": [
       "<keras.callbacks.History at 0x1b013250108>"
      ]
     },
     "execution_count": 48,
     "metadata": {},
     "output_type": "execute_result"
    }
   ],
   "source": [
    "Ann_model = keras.Sequential([\n",
    "    #input layer\n",
    "    keras.layers.Dense(3, input_shape=(5,), activation='relu'),\n",
    "   \n",
    "    keras.layers.Dense(1, activation='sigmoid')\n",
    "])\n",
    "Ann_model.compile(optimizer='adam',\n",
    "              loss='binary_crossentropy',\n",
    "              metrics=['accuracy'])\n",
    "\n",
    "Ann_model.fit(x_train, y_train)"
   ]
  },
  {
   "cell_type": "code",
   "execution_count": 49,
   "id": "252e2b4f",
   "metadata": {},
   "outputs": [
    {
     "name": "stdout",
     "output_type": "stream",
     "text": [
      "Epoch 1/10\n",
      "1400/1400 [==============================] - 5s 4ms/step - loss: 0.2401 - accuracy: 0.9561\n",
      "Epoch 2/10\n",
      "1400/1400 [==============================] - 5s 3ms/step - loss: 0.1874 - accuracy: 0.9564\n",
      "Epoch 3/10\n",
      "1400/1400 [==============================] - 5s 3ms/step - loss: 0.1619 - accuracy: 0.9555\n",
      "Epoch 4/10\n",
      "1400/1400 [==============================] - 5s 4ms/step - loss: 0.1407 - accuracy: 0.9531\n",
      "Epoch 5/10\n",
      "1400/1400 [==============================] - 5s 3ms/step - loss: 0.1278 - accuracy: 0.9530\n",
      "Epoch 6/10\n",
      "1400/1400 [==============================] - 5s 4ms/step - loss: 0.1225 - accuracy: 0.9540\n",
      "Epoch 7/10\n",
      "1400/1400 [==============================] - 4s 3ms/step - loss: 0.1189 - accuracy: 0.9550\n",
      "Epoch 8/10\n",
      "1400/1400 [==============================] - 5s 4ms/step - loss: 0.1160 - accuracy: 0.9554\n",
      "Epoch 9/10\n",
      "1400/1400 [==============================] - 5s 4ms/step - loss: 0.1138 - accuracy: 0.9570\n",
      "Epoch 10/10\n",
      "1400/1400 [==============================] - 4s 3ms/step - loss: 0.1119 - accuracy: 0.9573\n"
     ]
    },
    {
     "data": {
      "text/plain": [
       "<keras.callbacks.History at 0x1b0097dde88>"
      ]
     },
     "execution_count": 49,
     "metadata": {},
     "output_type": "execute_result"
    }
   ],
   "source": [
    "Ann_model.fit(x_train,y_train,batch_size=50,epochs=10)"
   ]
  },
  {
   "cell_type": "raw",
   "id": "6cbb0d2c",
   "metadata": {},
   "source": [
    "Strength:-\n",
    "In the medical outcome predictions which also relevant to the fraudelent detection in terms of classification.The most often used technique for creating predictive models for dichotomous outcomes in medicine is logistic regression. Artificial neural networks are algorithms that may be utilised to do nonlinear statistical modelling and provide a novel option. Neural networks have a number of benefits, such as requiring less formal statistical training, having access to a variety of training algorithms, and being able to implicitly detect complex nonlinear relationships between dependent and independent variables.(Tu, 1996)"
   ]
  },
  {
   "cell_type": "raw",
   "id": "f908b026",
   "metadata": {},
   "source": [
    "Limitations:-\n",
    "Its \"black box\" character, increased computing load, propensity for overfitting, and the empirical nature of model creation are drawbacks. The benefits and drawbacks of employing this modelling approach are highlighted after an outline of the characteristics of neural networks and logistic regression is given.(Tu, 1996)\n"
   ]
  },
  {
   "cell_type": "markdown",
   "id": "3ac28dd4",
   "metadata": {},
   "source": [
    "------------------------------------------------------------------------------------------------------------------------------"
   ]
  },
  {
   "cell_type": "markdown",
   "id": "1c4b502c",
   "metadata": {},
   "source": [
    "# 5. Model Evaluation"
   ]
  },
  {
   "cell_type": "raw",
   "id": "e6f65137",
   "metadata": {},
   "source": [
    "This section provides the comprehensive summary and brief about the evaluation of all the above trained models. The step to use test data for further evaluation and calculation of different performance metrics are defined and calculated.Some of them are discussed below.\n",
    "\n",
    "1. Accuracy \n",
    "A machine learning model's accuracy is the statistic used to compare it to other models in terms of its ability to identify correlations and patterns between variables in a dataset based on the input data, commonly referred to as training data.(Richard, 2023)\n",
    "\n",
    "2. Precision and Recall\n",
    "Together, precision and recall are two metrics that are used to assess how well categorization or information retrieval systems work. The percentage of relevant occurrences among all retrieved instances is what is referred to as precision. The percentage of recovered instances among all pertinent examples is known as recall, which is also known as \"sensitivity.\" Precision and recall of a perfect classifier are both equal to one.(Wood, 2020)\n",
    "By the above explanation and reference to the article it can be seen in all the built model that the accuracy and recall are near to the 1 . Though model goodness and failure could not be determined."
   ]
  },
  {
   "cell_type": "markdown",
   "id": "c49c674b",
   "metadata": {},
   "source": [
    "5.1 Logistic Regression Evaluation"
   ]
  },
  {
   "cell_type": "code",
   "execution_count": 50,
   "id": "588de288",
   "metadata": {},
   "outputs": [],
   "source": [
    "y_pred_log=logistic_model.predict(x_test)"
   ]
  },
  {
   "cell_type": "code",
   "execution_count": 51,
   "id": "f073c09f",
   "metadata": {},
   "outputs": [
    {
     "name": "stdout",
     "output_type": "stream",
     "text": [
      "Logistic Regression Model accuracy score is : 0.9459\n"
     ]
    }
   ],
   "source": [
    "print('Logistic Regression Model accuracy score is : {0:0.4f}'. format(accuracy_score(y_test, y_pred_log)))"
   ]
  },
  {
   "cell_type": "code",
   "execution_count": 52,
   "id": "4db86be4",
   "metadata": {},
   "outputs": [
    {
     "name": "stdout",
     "output_type": "stream",
     "text": [
      "              precision    recall  f1-score   support\n",
      "\n",
      "           0       0.96      0.99      0.97     27791\n",
      "           1       0.71      0.45      0.55      2209\n",
      "\n",
      "    accuracy                           0.95     30000\n",
      "   macro avg       0.83      0.72      0.76     30000\n",
      "weighted avg       0.94      0.95      0.94     30000\n",
      "\n"
     ]
    }
   ],
   "source": [
    "print(classification_report(y_test, y_pred_log))"
   ]
  },
  {
   "cell_type": "code",
   "execution_count": 53,
   "id": "ddf083e6",
   "metadata": {},
   "outputs": [
    {
     "name": "stdout",
     "output_type": "stream",
     "text": [
      "Cross-validation scores are:[0.94433333 0.94033333 0.94433333 0.94716667 0.9485    ]\n"
     ]
    }
   ],
   "source": [
    "s_log = cross_val_score(logistic_model, x_test, y_test, cv = 5, scoring='accuracy')\n",
    "print('Cross-validation scores are:{}'.format(s_log))"
   ]
  },
  {
   "cell_type": "code",
   "execution_count": 54,
   "id": "a4cee6b9",
   "metadata": {},
   "outputs": [
    {
     "data": {
      "text/plain": [
       "<tf.Tensor: shape=(2, 2), dtype=int32, numpy=\n",
       "array([[27380,   411],\n",
       "       [ 1212,   997]])>"
      ]
     },
     "execution_count": 54,
     "metadata": {},
     "output_type": "execute_result"
    }
   ],
   "source": [
    "c_matrix_log = tf.math.confusion_matrix(labels=y_test,predictions=y_pred_log)\n",
    "c_matrix_log"
   ]
  },
  {
   "cell_type": "code",
   "execution_count": 122,
   "id": "df1480a9",
   "metadata": {},
   "outputs": [
    {
     "data": {
      "text/plain": [
       "Text(33.0, 0.5, 'Truth')"
      ]
     },
     "execution_count": 122,
     "metadata": {},
     "output_type": "execute_result"
    },
    {
     "data": {
      "image/png": "[encoded data removed]",
      "text/plain": [
       "<Figure size 432x288 with 2 Axes>"
      ]
     },
     "metadata": {
      "needs_background": "light"
     },
     "output_type": "display_data"
    }
   ],
   "source": [
    "sns.heatmap(c_matrix_log/np.sum(c_matrix_log), annot=True, \n",
    "            fmt='.2%', cmap='Blues')\n",
    "plt.xlabel('Predicted')\n",
    "plt.ylabel('Truth')"
   ]
  },
  {
   "cell_type": "code",
   "execution_count": 109,
   "id": "d8576c3a",
   "metadata": {},
   "outputs": [
    {
     "data": {
      "image/png": "[encoded data removed]",
      "text/plain": [
       "<Figure size 432x288 with 1 Axes>"
      ]
     },
     "metadata": {
      "needs_background": "light"
     },
     "output_type": "display_data"
    }
   ],
   "source": [
    "fpr, tpr, _ = metrics.roc_curve(y_test,  y_pred_log)\n",
    "\n",
    "#create ROC curve\n",
    "plt.plot(fpr,tpr)\n",
    "plt.ylabel('True Positive Rate')\n",
    "plt.xlabel('False Positive Rate')\n",
    "plt.show()"
   ]
  },
  {
   "cell_type": "markdown",
   "id": "3267c8ec",
   "metadata": {},
   "source": [
    "--------------------------------------------------------------------------------------------------------------------------------"
   ]
  },
  {
   "cell_type": "markdown",
   "id": "6712f38c",
   "metadata": {},
   "source": [
    "5.2 Decision Tree Classifier Evaluation"
   ]
  },
  {
   "cell_type": "code",
   "execution_count": 56,
   "id": "fe8cbb5a",
   "metadata": {},
   "outputs": [],
   "source": [
    "y_pred_tree=decision_tree.predict(x_test)"
   ]
  },
  {
   "cell_type": "code",
   "execution_count": 57,
   "id": "fb6935eb",
   "metadata": {},
   "outputs": [
    {
     "name": "stdout",
     "output_type": "stream",
     "text": [
      "Decision Tree Model accuracy score is : 0.9706\n"
     ]
    }
   ],
   "source": [
    "print('Decision Tree Model accuracy score is : {0:0.4f}'. format(accuracy_score(y_test, y_pred_tree)))"
   ]
  },
  {
   "cell_type": "code",
   "execution_count": 58,
   "id": "21f914fb",
   "metadata": {},
   "outputs": [
    {
     "name": "stdout",
     "output_type": "stream",
     "text": [
      "Cross-validation scores are:[0.97033333 0.969      0.96916667 0.96916667 0.97066667]\n"
     ]
    }
   ],
   "source": [
    "d_log = cross_val_score(decision_tree, x_test, y_test, cv = 5, scoring='accuracy')\n",
    "print('Cross-validation scores are:{}'.format(d_log))"
   ]
  },
  {
   "cell_type": "code",
   "execution_count": 59,
   "id": "665777f1",
   "metadata": {},
   "outputs": [
    {
     "name": "stdout",
     "output_type": "stream",
     "text": [
      "              precision    recall  f1-score   support\n",
      "\n",
      "           0       0.98      0.99      0.98     27791\n",
      "           1       0.86      0.71      0.78      2209\n",
      "\n",
      "    accuracy                           0.97     30000\n",
      "   macro avg       0.92      0.85      0.88     30000\n",
      "weighted avg       0.97      0.97      0.97     30000\n",
      "\n"
     ]
    }
   ],
   "source": [
    "print(classification_report(y_test, y_pred_tree))"
   ]
  },
  {
   "cell_type": "code",
   "execution_count": 60,
   "id": "0977fa7b",
   "metadata": {},
   "outputs": [
    {
     "data": {
      "text/plain": [
       "<tf.Tensor: shape=(2, 2), dtype=int32, numpy=\n",
       "array([[27544,   247],\n",
       "       [  635,  1574]])>"
      ]
     },
     "execution_count": 60,
     "metadata": {},
     "output_type": "execute_result"
    }
   ],
   "source": [
    "c_matrix_tree = tf.math.confusion_matrix(labels=y_test,predictions=y_pred_tree)\n",
    "c_matrix_tree"
   ]
  },
  {
   "cell_type": "code",
   "execution_count": 121,
   "id": "063ab6c1",
   "metadata": {},
   "outputs": [
    {
     "data": {
      "text/plain": [
       "Text(33.0, 0.5, 'Truth')"
      ]
     },
     "execution_count": 121,
     "metadata": {},
     "output_type": "execute_result"
    },
    {
     "data": {
      "image/png": "[encoded data removed]",
      "text/plain": [
       "<Figure size 432x288 with 2 Axes>"
      ]
     },
     "metadata": {
      "needs_background": "light"
     },
     "output_type": "display_data"
    }
   ],
   "source": [
    "sns.heatmap(c_matrix_tree/np.sum(c_matrix_tree), annot=True, \n",
    "            fmt='.2%', cmap='magma_r')\n",
    "plt.xlabel('Predicted')\n",
    "plt.ylabel('Truth')"
   ]
  },
  {
   "cell_type": "code",
   "execution_count": 110,
   "id": "0da106de",
   "metadata": {},
   "outputs": [
    {
     "data": {
      "image/png": "[encoded data removed]",
      "text/plain": [
       "<Figure size 432x288 with 1 Axes>"
      ]
     },
     "metadata": {
      "needs_background": "light"
     },
     "output_type": "display_data"
    }
   ],
   "source": [
    "fpr, tpr, _ = metrics.roc_curve(y_test,  y_pred_tree)\n",
    "\n",
    "#create ROC curve\n",
    "plt.plot(fpr,tpr)\n",
    "plt.ylabel('True Positive Rate')\n",
    "plt.xlabel('False Positive Rate')\n",
    "plt.show()"
   ]
  },
  {
   "cell_type": "markdown",
   "id": "b3a0a173",
   "metadata": {},
   "source": [
    "---------------------------------------------------------------------------------------------------------------------------"
   ]
  },
  {
   "cell_type": "markdown",
   "id": "e3e02e91",
   "metadata": {},
   "source": [
    "5.3 Bagging Classifier Evaluation"
   ]
  },
  {
   "cell_type": "code",
   "execution_count": 62,
   "id": "cc5b5656",
   "metadata": {},
   "outputs": [],
   "source": [
    "y_pred_bag=bagging_model.predict(x_test)"
   ]
  },
  {
   "cell_type": "code",
   "execution_count": 63,
   "id": "e59f9667",
   "metadata": {},
   "outputs": [
    {
     "name": "stdout",
     "output_type": "stream",
     "text": [
      "Bagging Classifier accuracy score is : 0.9710\n"
     ]
    }
   ],
   "source": [
    "print('Bagging Classifier accuracy score is : {0:0.4f}'. format(accuracy_score(y_test, y_pred_bag)))"
   ]
  },
  {
   "cell_type": "code",
   "execution_count": null,
   "id": "34e3345e",
   "metadata": {},
   "outputs": [],
   "source": []
  },
  {
   "cell_type": "code",
   "execution_count": 64,
   "id": "c8c05506",
   "metadata": {},
   "outputs": [
    {
     "name": "stdout",
     "output_type": "stream",
     "text": [
      "              precision    recall  f1-score   support\n",
      "\n",
      "           0       0.98      0.99      0.98     27791\n",
      "           1       0.87      0.72      0.79      2209\n",
      "\n",
      "    accuracy                           0.97     30000\n",
      "   macro avg       0.92      0.85      0.88     30000\n",
      "weighted avg       0.97      0.97      0.97     30000\n",
      "\n"
     ]
    }
   ],
   "source": [
    "print(classification_report(y_test, y_pred_bag))"
   ]
  },
  {
   "cell_type": "code",
   "execution_count": 72,
   "id": "39437b1c",
   "metadata": {},
   "outputs": [
    {
     "data": {
      "text/plain": [
       "<tf.Tensor: shape=(2, 2), dtype=int32, numpy=\n",
       "array([[27530,   261],\n",
       "       [  620,  1589]])>"
      ]
     },
     "execution_count": 72,
     "metadata": {},
     "output_type": "execute_result"
    }
   ],
   "source": [
    "c_matrix_bag = tf.math.confusion_matrix(labels=y_test,predictions=y_pred_bag)\n",
    "c_matrix_tree"
   ]
  },
  {
   "cell_type": "code",
   "execution_count": 120,
   "id": "1c57bfcc",
   "metadata": {},
   "outputs": [
    {
     "data": {
      "text/plain": [
       "Text(33.0, 0.5, 'Truth')"
      ]
     },
     "execution_count": 120,
     "metadata": {},
     "output_type": "execute_result"
    },
    {
     "data": {
      "image/png": "[encoded data removed]",
      "text/plain": [
       "<Figure size 432x288 with 2 Axes>"
      ]
     },
     "metadata": {
      "needs_background": "light"
     },
     "output_type": "display_data"
    }
   ],
   "source": [
    "sns.heatmap(c_matrix_bag/np.sum(c_matrix_bag), annot=True, \n",
    "            fmt='.2%', cmap='twilight_r')\n",
    "plt.xlabel('Predicted')\n",
    "plt.ylabel('Truth')"
   ]
  },
  {
   "cell_type": "code",
   "execution_count": 111,
   "id": "472be0c4",
   "metadata": {},
   "outputs": [
    {
     "data": {
      "image/png": "[encoded data removed]",
      "text/plain": [
       "<Figure size 432x288 with 1 Axes>"
      ]
     },
     "metadata": {
      "needs_background": "light"
     },
     "output_type": "display_data"
    }
   ],
   "source": [
    "fpr, tpr, _ = metrics.roc_curve(y_test,  y_pred_bag)\n",
    "\n",
    "#create ROC curve\n",
    "plt.plot(fpr,tpr)\n",
    "plt.ylabel('True Positive Rate')\n",
    "plt.xlabel('False Positive Rate')\n",
    "plt.show()"
   ]
  },
  {
   "cell_type": "markdown",
   "id": "2c0e90d2",
   "metadata": {},
   "source": [
    "-------------------------------------------------------------------------------------------------------------------------------"
   ]
  },
  {
   "cell_type": "markdown",
   "id": "6905bb2c",
   "metadata": {},
   "source": [
    "5.4 Random Forest Evaluation"
   ]
  },
  {
   "cell_type": "code",
   "execution_count": 68,
   "id": "526fc6bf",
   "metadata": {},
   "outputs": [],
   "source": [
    "y_pred_forest=random_forest.predict(x_test)"
   ]
  },
  {
   "cell_type": "code",
   "execution_count": 69,
   "id": "3ae7fe21",
   "metadata": {},
   "outputs": [
    {
     "name": "stdout",
     "output_type": "stream",
     "text": [
      "Random Forest Model accuracy score is : 0.9706\n"
     ]
    }
   ],
   "source": [
    "print('Random Forest Model accuracy score is : {0:0.4f}'. format(accuracy_score(y_test, y_pred_forest)))"
   ]
  },
  {
   "cell_type": "code",
   "execution_count": 70,
   "id": "16d4fbf2",
   "metadata": {},
   "outputs": [
    {
     "name": "stdout",
     "output_type": "stream",
     "text": [
      "Cross-validation scores are:[0.97116667 0.97016667 0.96983333 0.96983333 0.971     ]\n"
     ]
    }
   ],
   "source": [
    "r_log = cross_val_score(random_forest, x_test, y_test, cv = 5, scoring='accuracy')\n",
    "print('Cross-validation scores are:{}'.format(r_log))"
   ]
  },
  {
   "cell_type": "code",
   "execution_count": 98,
   "id": "83fd77b5",
   "metadata": {},
   "outputs": [
    {
     "name": "stdout",
     "output_type": "stream",
     "text": [
      "              precision    recall  f1-score   support\n",
      "\n",
      "           0       0.98      0.99      0.98     27791\n",
      "           1       0.86      0.72      0.78      2209\n",
      "\n",
      "    accuracy                           0.97     30000\n",
      "   macro avg       0.92      0.85      0.88     30000\n",
      "weighted avg       0.97      0.97      0.97     30000\n",
      "\n"
     ]
    }
   ],
   "source": [
    "print(classification_report(y_test, y_pred_forest))"
   ]
  },
  {
   "cell_type": "code",
   "execution_count": 74,
   "id": "d25973aa",
   "metadata": {},
   "outputs": [
    {
     "data": {
      "text/plain": [
       "<tf.Tensor: shape=(2, 2), dtype=int32, numpy=\n",
       "array([[27530,   261],\n",
       "       [  620,  1589]])>"
      ]
     },
     "execution_count": 74,
     "metadata": {},
     "output_type": "execute_result"
    }
   ],
   "source": [
    "c_matrix_forest = tf.math.confusion_matrix(labels=y_test,predictions=y_pred_forest)\n",
    "c_matrix_forest"
   ]
  },
  {
   "cell_type": "code",
   "execution_count": 119,
   "id": "c87394b6",
   "metadata": {},
   "outputs": [
    {
     "data": {
      "text/plain": [
       "Text(33.0, 0.5, 'Truth')"
      ]
     },
     "execution_count": 119,
     "metadata": {},
     "output_type": "execute_result"
    },
    {
     "data": {
      "image/png": "[encoded data removed]",
      "text/plain": [
       "<Figure size 432x288 with 2 Axes>"
      ]
     },
     "metadata": {
      "needs_background": "light"
     },
     "output_type": "display_data"
    }
   ],
   "source": [
    "sns.heatmap(c_matrix_forest/np.sum(c_matrix_forest), annot=True, \n",
    "            fmt='.2%', cmap='YlOrBr')\n",
    "plt.xlabel('Predicted')\n",
    "plt.ylabel('Truth')"
   ]
  },
  {
   "cell_type": "code",
   "execution_count": 112,
   "id": "23a9a219",
   "metadata": {},
   "outputs": [
    {
     "data": {
      "image/png": "[encoded data removed]",
      "text/plain": [
       "<Figure size 432x288 with 1 Axes>"
      ]
     },
     "metadata": {
      "needs_background": "light"
     },
     "output_type": "display_data"
    }
   ],
   "source": [
    "fpr, tpr, _ = metrics.roc_curve(y_test,  y_pred_forest)\n",
    "\n",
    "#create ROC curve\n",
    "plt.plot(fpr,tpr)\n",
    "plt.ylabel('True Positive Rate')\n",
    "plt.xlabel('False Positive Rate')\n",
    "plt.show()"
   ]
  },
  {
   "cell_type": "markdown",
   "id": "806022e6",
   "metadata": {},
   "source": [
    "----------------------------------------------------------------------------------------------------------------------------"
   ]
  },
  {
   "cell_type": "markdown",
   "id": "50cd2e75",
   "metadata": {},
   "source": [
    "5.5 AdaBoost Evaluation"
   ]
  },
  {
   "cell_type": "code",
   "execution_count": 77,
   "id": "81f91feb",
   "metadata": {},
   "outputs": [],
   "source": [
    "y_pred_Ada=Ada_model.predict(x_test)"
   ]
  },
  {
   "cell_type": "code",
   "execution_count": 78,
   "id": "12cc3edc",
   "metadata": {},
   "outputs": [
    {
     "name": "stdout",
     "output_type": "stream",
     "text": [
      "Ada boost Model accuracy score is : 0.9724\n"
     ]
    }
   ],
   "source": [
    "print('Ada boost Model accuracy score is : {0:0.4f}'. format(accuracy_score(y_test, y_pred_Ada)))"
   ]
  },
  {
   "cell_type": "code",
   "execution_count": 79,
   "id": "6d986ffd",
   "metadata": {},
   "outputs": [
    {
     "name": "stdout",
     "output_type": "stream",
     "text": [
      "Cross-validation scores are:[0.97133333 0.96966667 0.9705     0.96883333 0.971     ]\n"
     ]
    }
   ],
   "source": [
    "ada_log = cross_val_score(random_forest, x_test, y_test, cv = 5, scoring='accuracy')\n",
    "print('Cross-validation scores are:{}'.format(ada_log))"
   ]
  },
  {
   "cell_type": "code",
   "execution_count": 99,
   "id": "fb84cf2b",
   "metadata": {},
   "outputs": [
    {
     "name": "stdout",
     "output_type": "stream",
     "text": [
      "              precision    recall  f1-score   support\n",
      "\n",
      "           0       0.98      0.99      0.99     27791\n",
      "           1       0.83      0.78      0.81      2209\n",
      "\n",
      "    accuracy                           0.97     30000\n",
      "   macro avg       0.91      0.88      0.90     30000\n",
      "weighted avg       0.97      0.97      0.97     30000\n",
      "\n"
     ]
    }
   ],
   "source": [
    "print(classification_report(y_test, y_pred_Ada))"
   ]
  },
  {
   "cell_type": "code",
   "execution_count": 80,
   "id": "8ffcb4cc",
   "metadata": {},
   "outputs": [
    {
     "data": {
      "text/plain": [
       "<tf.Tensor: shape=(2, 2), dtype=int32, numpy=\n",
       "array([[27450,   341],\n",
       "       [  488,  1721]])>"
      ]
     },
     "execution_count": 80,
     "metadata": {},
     "output_type": "execute_result"
    }
   ],
   "source": [
    "c_matrix_Ada = tf.math.confusion_matrix(labels=y_test,predictions=y_pred_Ada)\n",
    "c_matrix_Ada"
   ]
  },
  {
   "cell_type": "code",
   "execution_count": 118,
   "id": "b0dde3c0",
   "metadata": {},
   "outputs": [
    {
     "data": {
      "text/plain": [
       "Text(33.0, 0.5, 'Truth')"
      ]
     },
     "execution_count": 118,
     "metadata": {},
     "output_type": "execute_result"
    },
    {
     "data": {
      "image/png": "[encoded data removed]",
      "text/plain": [
       "<Figure size 432x288 with 2 Axes>"
      ]
     },
     "metadata": {
      "needs_background": "light"
     },
     "output_type": "display_data"
    }
   ],
   "source": [
    "sns.heatmap(c_matrix_Ada/np.sum(c_matrix_Ada), annot=True, \n",
    "            fmt='.2%', cmap='coolwarm_r')\n",
    "plt.xlabel('Predicted')\n",
    "plt.ylabel('Truth')"
   ]
  },
  {
   "cell_type": "code",
   "execution_count": 113,
   "id": "ed8d4ac0",
   "metadata": {},
   "outputs": [
    {
     "data": {
      "image/png": "[encoded data removed]",
      "text/plain": [
       "<Figure size 432x288 with 1 Axes>"
      ]
     },
     "metadata": {
      "needs_background": "light"
     },
     "output_type": "display_data"
    }
   ],
   "source": [
    "fpr, tpr, _ = metrics.roc_curve(y_test,  y_pred_Ada)\n",
    "\n",
    "#create ROC curve\n",
    "plt.plot(fpr,tpr)\n",
    "plt.ylabel('True Positive Rate')\n",
    "plt.xlabel('False Positive Rate')\n",
    "plt.show()"
   ]
  },
  {
   "cell_type": "markdown",
   "id": "0b7c0a9e",
   "metadata": {},
   "source": [
    "----------------------------------------------------------------------------------------------------------------------------"
   ]
  },
  {
   "cell_type": "markdown",
   "id": "6a21bc1d",
   "metadata": {},
   "source": [
    "5.6 XGBoost Evaluation"
   ]
  },
  {
   "cell_type": "code",
   "execution_count": 88,
   "id": "491ded80",
   "metadata": {},
   "outputs": [],
   "source": [
    "y_pred_boost=xgb_classifier.predict(x_test)"
   ]
  },
  {
   "cell_type": "code",
   "execution_count": 89,
   "id": "0ec723f7",
   "metadata": {},
   "outputs": [
    {
     "name": "stdout",
     "output_type": "stream",
     "text": [
      "XGboost Model accuracy score is : 0.9704\n"
     ]
    }
   ],
   "source": [
    "print('XGboost Model accuracy score is : {0:0.4f}'. format(accuracy_score(y_test, y_pred_boost)))"
   ]
  },
  {
   "cell_type": "code",
   "execution_count": 90,
   "id": "5d93e4b9",
   "metadata": {},
   "outputs": [
    {
     "name": "stdout",
     "output_type": "stream",
     "text": [
      "Cross-validation scores are:[0.972      0.97033333 0.97133333 0.969      0.97116667]\n"
     ]
    }
   ],
   "source": [
    "boost_log = cross_val_score(xgb_classifier, x_test, y_test, cv = 5, scoring='accuracy')\n",
    "print('Cross-validation scores are:{}'.format(boost_log))"
   ]
  },
  {
   "cell_type": "code",
   "execution_count": 100,
   "id": "6f673eae",
   "metadata": {},
   "outputs": [
    {
     "name": "stdout",
     "output_type": "stream",
     "text": [
      "              precision    recall  f1-score   support\n",
      "\n",
      "           0       0.98      0.99      0.98     27791\n",
      "           1       0.85      0.72      0.78      2209\n",
      "\n",
      "    accuracy                           0.97     30000\n",
      "   macro avg       0.92      0.86      0.88     30000\n",
      "weighted avg       0.97      0.97      0.97     30000\n",
      "\n"
     ]
    }
   ],
   "source": [
    "print(classification_report(y_test, y_pred_boost))"
   ]
  },
  {
   "cell_type": "code",
   "execution_count": 91,
   "id": "5d9ac152",
   "metadata": {},
   "outputs": [
    {
     "data": {
      "text/plain": [
       "<tf.Tensor: shape=(2, 2), dtype=int32, numpy=\n",
       "array([[27519,   272],\n",
       "       [  616,  1593]])>"
      ]
     },
     "execution_count": 91,
     "metadata": {},
     "output_type": "execute_result"
    }
   ],
   "source": [
    "c_matrix_boost = tf.math.confusion_matrix(labels=y_test,predictions=y_pred_boost)\n",
    "c_matrix_boost"
   ]
  },
  {
   "cell_type": "code",
   "execution_count": 117,
   "id": "3d535d7a",
   "metadata": {},
   "outputs": [
    {
     "data": {
      "text/plain": [
       "Text(33.0, 0.5, 'Truth')"
      ]
     },
     "execution_count": 117,
     "metadata": {},
     "output_type": "execute_result"
    },
    {
     "data": {
      "image/png": "[encoded data removed]",
      "text/plain": [
       "<Figure size 432x288 with 2 Axes>"
      ]
     },
     "metadata": {
      "needs_background": "light"
     },
     "output_type": "display_data"
    }
   ],
   "source": [
    "sns.heatmap(c_matrix_boost/np.sum(c_matrix_boost), annot=True, \n",
    "            fmt='.2%', cmap='Wistia_r')\n",
    "plt.xlabel('Predicted')\n",
    "plt.ylabel('Truth')"
   ]
  },
  {
   "cell_type": "code",
   "execution_count": 114,
   "id": "44ad55ff",
   "metadata": {},
   "outputs": [
    {
     "data": {
      "image/png": "[encoded data removed]",
      "text/plain": [
       "<Figure size 432x288 with 1 Axes>"
      ]
     },
     "metadata": {
      "needs_background": "light"
     },
     "output_type": "display_data"
    }
   ],
   "source": [
    "fpr, tpr, _ = metrics.roc_curve(y_test,  y_pred_boost)\n",
    "\n",
    "#create ROC curve\n",
    "plt.plot(fpr,tpr)\n",
    "plt.ylabel('True Positive Rate')\n",
    "plt.xlabel('False Positive Rate')\n",
    "plt.show()"
   ]
  },
  {
   "cell_type": "markdown",
   "id": "61db0616",
   "metadata": {},
   "source": [
    "-------------------------------------------------------------------------------------------------------------------------------"
   ]
  },
  {
   "cell_type": "markdown",
   "id": "eb4ef31e",
   "metadata": {},
   "source": [
    "5.7 ANN Evaluation"
   ]
  },
  {
   "cell_type": "code",
   "execution_count": 96,
   "id": "c70cb5e5",
   "metadata": {},
   "outputs": [
    {
     "name": "stdout",
     "output_type": "stream",
     "text": [
      "Epoch 1/10\n",
      "600/600 [==============================] - 2s 3ms/step - loss: 0.1113 - accuracy: 0.9576\n",
      "Epoch 2/10\n",
      "600/600 [==============================] - 1s 2ms/step - loss: 0.1108 - accuracy: 0.9578\n",
      "Epoch 3/10\n",
      "600/600 [==============================] - 2s 3ms/step - loss: 0.1104 - accuracy: 0.9578\n",
      "Epoch 4/10\n",
      "600/600 [==============================] - 2s 3ms/step - loss: 0.1100 - accuracy: 0.9580\n",
      "Epoch 5/10\n",
      "600/600 [==============================] - 1s 2ms/step - loss: 0.1098 - accuracy: 0.9581\n",
      "Epoch 6/10\n",
      "600/600 [==============================] - 1s 2ms/step - loss: 0.1093 - accuracy: 0.9582\n",
      "Epoch 7/10\n",
      "600/600 [==============================] - 1s 2ms/step - loss: 0.1093 - accuracy: 0.9582\n",
      "Epoch 8/10\n",
      "600/600 [==============================] - 1s 2ms/step - loss: 0.1091 - accuracy: 0.9582\n",
      "Epoch 9/10\n",
      "600/600 [==============================] - 1s 2ms/step - loss: 0.1088 - accuracy: 0.9582\n",
      "Epoch 10/10\n",
      "600/600 [==============================] - 1s 2ms/step - loss: 0.1086 - accuracy: 0.9584\n"
     ]
    },
    {
     "data": {
      "text/plain": [
       "<keras.callbacks.History at 0x1b02500a548>"
      ]
     },
     "execution_count": 96,
     "metadata": {},
     "output_type": "execute_result"
    }
   ],
   "source": [
    "Ann_model.evaluate(x_test, y_test)"
   ]
  },
  {
   "cell_type": "code",
   "execution_count": 102,
   "id": "66974d18",
   "metadata": {},
   "outputs": [
    {
     "name": "stdout",
     "output_type": "stream",
     "text": [
      "938/938 [==============================] - 1s 1ms/step\n"
     ]
    }
   ],
   "source": [
    "y_pre_Ann=Ann_model.predict(x_test)"
   ]
  },
  {
   "cell_type": "code",
   "execution_count": 103,
   "id": "d9e153b7",
   "metadata": {},
   "outputs": [],
   "source": [
    "y_pred_Ann = []\n",
    "for element in y_pre_Ann:\n",
    "    if element > 0.5:\n",
    "        y_pred_Ann.append(1)\n",
    "    else:\n",
    "        y_pred_Ann.append(0)"
   ]
  },
  {
   "cell_type": "code",
   "execution_count": 104,
   "id": "89e8347d",
   "metadata": {},
   "outputs": [
    {
     "name": "stdout",
     "output_type": "stream",
     "text": [
      "              precision    recall  f1-score   support\n",
      "\n",
      "           0       0.97      0.99      0.98     27791\n",
      "           1       0.80      0.59      0.68      2209\n",
      "\n",
      "    accuracy                           0.96     30000\n",
      "   macro avg       0.88      0.79      0.83     30000\n",
      "weighted avg       0.96      0.96      0.96     30000\n",
      "\n"
     ]
    }
   ],
   "source": [
    "print(classification_report(y_test,y_pred_Ann))"
   ]
  },
  {
   "cell_type": "code",
   "execution_count": 105,
   "id": "7020c516",
   "metadata": {},
   "outputs": [
    {
     "data": {
      "text/plain": [
       "<tf.Tensor: shape=(2, 2), dtype=int32, numpy=\n",
       "array([[27458,   333],\n",
       "       [  910,  1299]])>"
      ]
     },
     "execution_count": 105,
     "metadata": {},
     "output_type": "execute_result"
    }
   ],
   "source": [
    "c_matrix_Ann = tf.math.confusion_matrix(labels=y_test,predictions=y_pred_Ann)\n",
    "c_matrix_Ann"
   ]
  },
  {
   "cell_type": "code",
   "execution_count": 116,
   "id": "f4263b57",
   "metadata": {},
   "outputs": [
    {
     "data": {
      "text/plain": [
       "Text(33.0, 0.5, 'Truth')"
      ]
     },
     "execution_count": 116,
     "metadata": {},
     "output_type": "execute_result"
    },
    {
     "data": {
      "image/png": "[encoded data removed]",
      "text/plain": [
       "<Figure size 432x288 with 2 Axes>"
      ]
     },
     "metadata": {
      "needs_background": "light"
     },
     "output_type": "display_data"
    }
   ],
   "source": [
    "sns.heatmap(c_matrix_Ann/np.sum(c_matrix_Ann), annot=True, \n",
    "            fmt='.2%', cmap='BuPu')\n",
    "plt.xlabel('Predicted')\n",
    "plt.ylabel('Truth')"
   ]
  },
  {
   "cell_type": "code",
   "execution_count": 115,
   "id": "ddc19c72",
   "metadata": {},
   "outputs": [
    {
     "data": {
      "image/png": "[encoded data removed]",
      "text/plain": [
       "<Figure size 432x288 with 1 Axes>"
      ]
     },
     "metadata": {
      "needs_background": "light"
     },
     "output_type": "display_data"
    }
   ],
   "source": [
    "fpr, tpr, _ = metrics.roc_curve(y_test,  y_pred_Ann)\n",
    "\n",
    "#create ROC curve\n",
    "plt.plot(fpr,tpr)\n",
    "plt.ylabel('True Positive Rate')\n",
    "plt.xlabel('False Positive Rate')\n",
    "plt.show()"
   ]
  },
  {
   "cell_type": "markdown",
   "id": "c70ea866",
   "metadata": {},
   "source": [
    "-----------------------------------------------------------------------------------------------------------------------------"
   ]
  },
  {
   "cell_type": "markdown",
   "id": "f5b5567e",
   "metadata": {},
   "source": [
    "# 6. Model Predictions Comparison"
   ]
  },
  {
   "cell_type": "raw",
   "id": "c553cb21",
   "metadata": {},
   "source": [
    "                                 Correct Predictions in %\n",
    "             \n",
    "1. Logistic Regression------------------------   92.64%\n",
    "2. Decision Tree Classifier-------------------   92.14%    \n",
    "3. Bagging Classifier-------------------------   92.63%\n",
    "4. Random Forest Classifier-------------------   92.64%\n",
    "5. AdaBoost-----------------------------------   92.64%\n",
    "6. XgBoost------------------------------------   92.64%\n",
    "7. ANN----------------------------------------   92.64%\n",
    "     \n",
    "All the Classifiers have almost the same number of correct predictions.\n"
   ]
  },
  {
   "cell_type": "raw",
   "id": "668d175b",
   "metadata": {},
   "source": [
    "                                 Incorrect Predictions in %\n",
    "             \n",
    "1. Logistic Regression------------------------   7.36%\n",
    "2. Decision Tree Classifier-------------------   7.86%    \n",
    "3. Bagging Classifier-------------------------   7.37%\n",
    "4. Random Forest Classifier-------------------   7.36%\n",
    "5. AdaBoost-----------------------------------   7.36%\n",
    "6. XgBoost------------------------------------   7.36%\n",
    "7. ANN----------------------------------------   7.36%\n",
    "                                               \n",
    "The number of incorrect predictions are same for all the classifier."
   ]
  },
  {
   "cell_type": "markdown",
   "id": "d8e6a307",
   "metadata": {},
   "source": [
    "----------------------------------------------------------------------------------------------------------------------------"
   ]
  },
  {
   "cell_type": "markdown",
   "id": "e742d69e",
   "metadata": {},
   "source": [
    "# 7. References"
   ]
  },
  {
   "cell_type": "raw",
   "id": "8bd12ef3",
   "metadata": {},
   "source": [
    "1. Bentejac, C., Csorgo, A. and Martinez-Munoz, G. (2019). A Comparative Analysis of XGBoost.\n",
    "\n",
    "2. Boztepe, E. and Usul, H. (2019). Using the Analysis of Logistic Regression Model in Auditing and Detection of Frauds. Khazar Journal of Humanities and Social Sciences, 22(3), pp.5–23. doi:https://doi.org/10.5782/2223-2621.2019.22.3.5.\n",
    "\n",
    "3. Charbuty, B. and Abdulazeez, A. (2021). Classification Based on Decision Tree Algorithm for Machine Learning. Journal of Applied Science and Technology Trends, 2(01), pp.20–28. doi:https://doi.org/10.38094/jastt20165.\n",
    "\n",
    "4. Chengsheng, T., Huacheng, L. and Bing, X. (2017). AdaBoost typical Algorithm and its application research. MATEC Web of Conferences, 139, p.00222. doi:https://doi.org/10.1051/matecconf/201713900222.\n",
    "\n",
    "5. Richard, A. (2023). What Is Accuracy In Machine Learning? [online] Erecre Group Realty. Available at: https://erecrerealestategroup.com/learning/what-is-accuracy-in-machine-learning.html#:~:text=Accuracy%20is%20a%20measure%20of%20how%20close%20the [Accessed 29 Apr. 2023].\n",
    "\n",
    "6. Tu, J.V. (1996). Advantages and disadvantages of using artificial neural networks versus logistic regression for predicting medical outcomes. Journal of Clinical Epidemiology, [online] 49(11), pp.1225–1231. doi:https://doi.org/10.1016/s0895-4356(96)00002-9.\n",
    "\n",
    "7. Wood, T. (2020). Precision and Recall. [online] DeepAI. Available at: https://deepai.org/machine-learning-glossary-and-terms/precision-and-recall.\n",
    "\n",
    "8. Zareapoor, M. and Shamsolmoali, P. (2015). Application of Credit Card Fraud Detection: Based on Bagging Ensemble Classifier. Procedia Computer Science, [online] 48, pp.679–685. doi:https://doi.org/10.1016/j.procs.2015.04.201.\n",
    "\n",
    "9. Zhu, T. (2020). Analysis on the Applicability of the Random Forest. Journal of Physics: Conference Series, 1607(1), p.012123. doi:https://doi.org/10.1088/1742-6596/1607/1/012123."
   ]
  }
 ],
 "metadata": {
  "kernelspec": {
   "display_name": "Python 3 (ipykernel)",
   "language": "python",
   "name": "python3"
  },
  "language_info": {
   "codemirror_mode": {
    "name": "ipython",
    "version": 3
   },
   "file_extension": ".py",
   "mimetype": "text/x-python",
   "name": "python",
   "nbconvert_exporter": "python",
   "pygments_lexer": "ipython3",
   "version": "3.7.9"
  }
 },
 "nbformat": 4,
 "nbformat_minor": 5
}
